{
  "nbformat": 4,
  "nbformat_minor": 0,
  "metadata": {
    "anaconda-cloud": {},
    "kernelspec": {
      "display_name": "Python 3",
      "language": "python",
      "name": "python3"
    },
    "language_info": {
      "codemirror_mode": {
        "name": "ipython",
        "version": 3
      },
      "file_extension": ".py",
      "mimetype": "text/x-python",
      "name": "python",
      "nbconvert_exporter": "python",
      "pygments_lexer": "ipython3",
      "version": "3.6.4"
    },
    "latex_envs": {
      "LaTeX_envs_menu_present": false,
      "autoclose": false,
      "autocomplete": false,
      "bibliofile": "biblio.bib",
      "cite_by": "apalike",
      "current_citInitial": 1,
      "eqLabelWithNumbers": false,
      "eqNumInitial": 1,
      "hotkeys": {
        "equation": "Ctrl-E",
        "itemize": "Ctrl-I"
      },
      "labels_anchors": false,
      "latex_user_defs": false,
      "report_style_numbering": false,
      "user_envs_cfg": false
    },
    "nav_menu": {},
    "toc": {
      "nav_menu": {
        "height": "252px",
        "width": "252px"
      },
      "number_sections": false,
      "sideBar": true,
      "skip_h1_title": false,
      "toc_cell": false,
      "toc_position": {
        "height": "545px",
        "left": "0px",
        "right": "984px",
        "top": "111px",
        "width": "382px"
      },
      "toc_section_display": "block",
      "toc_window_display": false
    },
    "toc_position": {
      "height": "533px",
      "left": "0px",
      "right": "1045.17px",
      "top": "107px",
      "width": "207px"
    },
    "colab": {
      "name": "Chapter_06_Input_Output(실습용).ipynb",
      "provenance": [],
      "collapsed_sections": [
        "mfJU2BP_XlEy"
      ],
      "include_colab_link": true
    }
  },
  "cells": [
    {
      "cell_type": "markdown",
      "metadata": {
        "id": "view-in-github",
        "colab_type": "text"
      },
      "source": [
        "<a href=\"https://colab.research.google.com/github/osh9149/Python_Starter/blob/main/Chapter_06_Input_Output(%EC%8B%A4%EC%8A%B5%EC%9A%A9).ipynb\" target=\"_parent\"><img src=\"https://colab.research.google.com/assets/colab-badge.svg\" alt=\"Open In Colab\"/></a>"
      ]
    },
    {
      "cell_type": "markdown",
      "metadata": {
        "id": "lTIYW_txXlEf"
      },
      "source": [
        "# 6장 입력과 출력"
      ]
    },
    {
      "cell_type": "markdown",
      "metadata": {
        "id": "RJyw_-pKXlEl"
      },
      "source": [
        "## 6.1 화면 출력"
      ]
    },
    {
      "cell_type": "markdown",
      "metadata": {
        "id": "wrVpJq72XlEm"
      },
      "source": [
        "### 기본 출력"
      ]
    },
    {
      "cell_type": "markdown",
      "metadata": {
        "id": "liLdz-ZxXlEm"
      },
      "source": [
        "**[6장: 95페이지]**"
      ]
    },
    {
      "cell_type": "code",
      "metadata": {
        "id": "pwCLCkUCXlEn"
      },
      "source": [
        ""
      ],
      "execution_count": null,
      "outputs": []
    },
    {
      "cell_type": "markdown",
      "metadata": {
        "id": "S8XRpPAlXlEn"
      },
      "source": [
        "**[6장: 96페이지]**"
      ]
    },
    {
      "cell_type": "code",
      "metadata": {
        "scrolled": true,
        "id": "l3cZbl6CXlEn"
      },
      "source": [
        ""
      ],
      "execution_count": null,
      "outputs": []
    },
    {
      "cell_type": "markdown",
      "metadata": {
        "id": "Wgn-mWCDXlEo"
      },
      "source": [
        "**[6장: 96페이지]**"
      ]
    },
    {
      "cell_type": "code",
      "metadata": {
        "id": "Hwp_7disXlEo"
      },
      "source": [
        ""
      ],
      "execution_count": null,
      "outputs": []
    },
    {
      "cell_type": "markdown",
      "metadata": {
        "id": "lfnKkOB_XlEo"
      },
      "source": [
        "**[6장: 96페이지]**"
      ]
    },
    {
      "cell_type": "code",
      "metadata": {
        "id": "GqDvNDK5XlEo"
      },
      "source": [
        ""
      ],
      "execution_count": null,
      "outputs": []
    },
    {
      "cell_type": "markdown",
      "metadata": {
        "id": "YE5W7j0tXlEp"
      },
      "source": [
        "**[6장: 96페이지]**"
      ]
    },
    {
      "cell_type": "code",
      "metadata": {
        "id": "vQ2P5zdHXlEp"
      },
      "source": [
        ""
      ],
      "execution_count": null,
      "outputs": []
    },
    {
      "cell_type": "markdown",
      "metadata": {
        "id": "XIU9x-t5XlEp"
      },
      "source": [
        "**[6장: 96페이지]**"
      ]
    },
    {
      "cell_type": "code",
      "metadata": {
        "id": "isb2cVB6XlEp"
      },
      "source": [
        ""
      ],
      "execution_count": null,
      "outputs": []
    },
    {
      "cell_type": "markdown",
      "metadata": {
        "id": "qg4vdfpZXlEq"
      },
      "source": [
        "**[6장: 97페이지]**"
      ]
    },
    {
      "cell_type": "code",
      "metadata": {
        "id": "eaXzweUbXlEq"
      },
      "source": [
        ""
      ],
      "execution_count": null,
      "outputs": []
    },
    {
      "cell_type": "markdown",
      "metadata": {
        "id": "mEcAkSRbXlEq"
      },
      "source": [
        "**[6장: 97페이지]**"
      ]
    },
    {
      "cell_type": "code",
      "metadata": {
        "id": "nMqh6dy4XlEq"
      },
      "source": [
        ""
      ],
      "execution_count": null,
      "outputs": []
    },
    {
      "cell_type": "markdown",
      "metadata": {
        "id": "5g1j_cF3XlEr"
      },
      "source": [
        "**[6장: 97페이지]**"
      ]
    },
    {
      "cell_type": "code",
      "metadata": {
        "scrolled": true,
        "id": "EY0c9gqOXlEr"
      },
      "source": [
        ""
      ],
      "execution_count": null,
      "outputs": []
    },
    {
      "cell_type": "markdown",
      "metadata": {
        "id": "13hRPciiXlEr"
      },
      "source": [
        "**[6장: 97페이지]**"
      ]
    },
    {
      "cell_type": "code",
      "metadata": {
        "id": "fQAuom0wXlEr"
      },
      "source": [
        ""
      ],
      "execution_count": null,
      "outputs": []
    },
    {
      "cell_type": "markdown",
      "metadata": {
        "id": "qGt4jyvzXlEr"
      },
      "source": [
        "**[6장: 98페이지]**"
      ]
    },
    {
      "cell_type": "code",
      "metadata": {
        "id": "xMxYEJ7nXlEr"
      },
      "source": [
        ""
      ],
      "execution_count": null,
      "outputs": []
    },
    {
      "cell_type": "markdown",
      "metadata": {
        "id": "ATEpiEcKXlEs"
      },
      "source": [
        "### 형식 지정 출력"
      ]
    },
    {
      "cell_type": "markdown",
      "metadata": {
        "id": "TuynN2CGXlEs"
      },
      "source": [
        "#### 나머지 연산자(%)를 이용한 형식 및 위치 지정"
      ]
    },
    {
      "cell_type": "markdown",
      "metadata": {
        "id": "_Tw7kw9qXlEs"
      },
      "source": [
        "**[6장: 99페이지]**"
      ]
    },
    {
      "cell_type": "code",
      "metadata": {
        "id": "EzxwHuIOXlEs"
      },
      "source": [
        ""
      ],
      "execution_count": null,
      "outputs": []
    },
    {
      "cell_type": "markdown",
      "metadata": {
        "id": "cE4-FfqfXlEs"
      },
      "source": [
        "**[6장: 99페이지]**"
      ]
    },
    {
      "cell_type": "code",
      "metadata": {
        "scrolled": true,
        "id": "hHOgiTJJXlEt"
      },
      "source": [
        ""
      ],
      "execution_count": null,
      "outputs": []
    },
    {
      "cell_type": "markdown",
      "metadata": {
        "id": "-WzLDAHrXlEt"
      },
      "source": [
        "#### 형식 지정 문자열에서 출력 위치 지정\n"
      ]
    },
    {
      "cell_type": "markdown",
      "metadata": {
        "id": "6FgMptbwXlEt"
      },
      "source": [
        "**[6장: 100페이지]**"
      ]
    },
    {
      "cell_type": "code",
      "metadata": {
        "id": "SlUZjpDWXlEt"
      },
      "source": [
        ""
      ],
      "execution_count": null,
      "outputs": []
    },
    {
      "cell_type": "markdown",
      "metadata": {
        "id": "tjGo4NELXlEt"
      },
      "source": [
        "**[6장: 100페이지]**"
      ]
    },
    {
      "cell_type": "code",
      "metadata": {
        "id": "KUVko7mhXlEu"
      },
      "source": [
        ""
      ],
      "execution_count": null,
      "outputs": []
    },
    {
      "cell_type": "markdown",
      "metadata": {
        "id": "rSmVvo3-XlEu"
      },
      "source": [
        "**[6장: 100페이지]**"
      ]
    },
    {
      "cell_type": "code",
      "metadata": {
        "id": "YnfmxIZ0XlEu"
      },
      "source": [
        ""
      ],
      "execution_count": null,
      "outputs": []
    },
    {
      "cell_type": "markdown",
      "metadata": {
        "id": "1b3gQU5CXlEu"
      },
      "source": [
        "**[6장: 101페이지]**"
      ]
    },
    {
      "cell_type": "code",
      "metadata": {
        "id": "boI6UdbzXlEu"
      },
      "source": [
        ""
      ],
      "execution_count": null,
      "outputs": []
    },
    {
      "cell_type": "markdown",
      "metadata": {
        "id": "ia4_JW0mXlEv"
      },
      "source": [
        "**[6장: 101페이지]**"
      ]
    },
    {
      "cell_type": "code",
      "metadata": {
        "id": "RxBEeHEpXlEv"
      },
      "source": [
        ""
      ],
      "execution_count": null,
      "outputs": []
    },
    {
      "cell_type": "markdown",
      "metadata": {
        "id": "al1yp6Y-XlEv"
      },
      "source": [
        "#### 형식 지정 문자열에서 숫자 출력 형식 지정"
      ]
    },
    {
      "cell_type": "markdown",
      "metadata": {
        "id": "DoXlKQKxXlEv"
      },
      "source": [
        "**[6장: 101페이지]**"
      ]
    },
    {
      "cell_type": "code",
      "metadata": {
        "id": "IyhgV5OFXlEv"
      },
      "source": [
        ""
      ],
      "execution_count": null,
      "outputs": []
    },
    {
      "cell_type": "markdown",
      "metadata": {
        "id": "zcwcMWQAXlEw"
      },
      "source": [
        "## 6.1 키보드 입력"
      ]
    },
    {
      "cell_type": "markdown",
      "metadata": {
        "id": "dTIrQPDFXlEw"
      },
      "source": [
        "**[6장: 103페이지]**"
      ]
    },
    {
      "cell_type": "code",
      "metadata": {
        "id": "sjHpEE0xXlEw"
      },
      "source": [
        ""
      ],
      "execution_count": null,
      "outputs": []
    },
    {
      "cell_type": "markdown",
      "metadata": {
        "id": "fvHmUe9zXlEw"
      },
      "source": [
        "**[6장: 103페이지]**"
      ]
    },
    {
      "cell_type": "code",
      "metadata": {
        "id": "-hj3LT9zXlEw"
      },
      "source": [
        ""
      ],
      "execution_count": null,
      "outputs": []
    },
    {
      "cell_type": "markdown",
      "metadata": {
        "id": "0s6g_v7XXlEw"
      },
      "source": [
        "**[6장: 103페이지]**"
      ]
    },
    {
      "cell_type": "code",
      "metadata": {
        "id": "5z3o5AFWXlEx"
      },
      "source": [
        ""
      ],
      "execution_count": null,
      "outputs": []
    },
    {
      "cell_type": "markdown",
      "metadata": {
        "id": "lYkadEZQXlEx"
      },
      "source": [
        "**[6장: 103페이지]**"
      ]
    },
    {
      "cell_type": "code",
      "metadata": {
        "id": "eGb8EwkLXlEx"
      },
      "source": [
        ""
      ],
      "execution_count": null,
      "outputs": []
    },
    {
      "cell_type": "markdown",
      "metadata": {
        "id": "ynXjlAozXlEx"
      },
      "source": [
        "**[6장: 104페이지]**"
      ]
    },
    {
      "cell_type": "code",
      "metadata": {
        "id": "-Jdc18lBXlEx"
      },
      "source": [
        ""
      ],
      "execution_count": null,
      "outputs": []
    },
    {
      "cell_type": "markdown",
      "metadata": {
        "id": "W2FAcctJXlEy"
      },
      "source": [
        "## 6.3 파일 읽고 쓰기"
      ]
    },
    {
      "cell_type": "markdown",
      "metadata": {
        "collapsed": true,
        "id": "mfJU2BP_XlEy"
      },
      "source": [
        "### 파일 열기\n"
      ]
    },
    {
      "cell_type": "markdown",
      "metadata": {
        "id": "Y8bcA-8vXlEy"
      },
      "source": [
        "### 파일 쓰기"
      ]
    },
    {
      "cell_type": "markdown",
      "metadata": {
        "id": "83NH3n_WXlEy"
      },
      "source": [
        "**[6장: 106페이지]**"
      ]
    },
    {
      "cell_type": "code",
      "metadata": {
        "id": "3R8JgYMHXlEy"
      },
      "source": [
        ""
      ],
      "execution_count": null,
      "outputs": []
    },
    {
      "cell_type": "markdown",
      "metadata": {
        "id": "6N2Vm8n7XlEy"
      },
      "source": [
        "**[6장: 106페이지]**"
      ]
    },
    {
      "cell_type": "code",
      "metadata": {
        "id": "eqtfyLSVXlEy"
      },
      "source": [
        ""
      ],
      "execution_count": null,
      "outputs": []
    },
    {
      "cell_type": "markdown",
      "metadata": {
        "id": "WqKKSAFDXlEz"
      },
      "source": [
        "**[6장: 106페이지]**"
      ]
    },
    {
      "cell_type": "code",
      "metadata": {
        "id": "yNpq_daKXlEz"
      },
      "source": [
        ""
      ],
      "execution_count": null,
      "outputs": []
    },
    {
      "cell_type": "markdown",
      "metadata": {
        "id": "CDSJrfqcXlEz"
      },
      "source": [
        "### 파일 읽기"
      ]
    },
    {
      "cell_type": "markdown",
      "metadata": {
        "id": "GNmg6ZY8XlEz"
      },
      "source": [
        "**[6장: 107페이지]**"
      ]
    },
    {
      "cell_type": "code",
      "metadata": {
        "id": "H0f18lHDXlEz"
      },
      "source": [
        "       "
      ],
      "execution_count": null,
      "outputs": []
    },
    {
      "cell_type": "markdown",
      "metadata": {
        "id": "A0x5oOgjXlE0"
      },
      "source": [
        "## 6.4 반복문을 이용해 파일 읽고 쓰기"
      ]
    },
    {
      "cell_type": "markdown",
      "metadata": {
        "id": "sz0TQD0_XlE0"
      },
      "source": [
        "### 파일에 문자열 한 줄씩 쓰기"
      ]
    },
    {
      "cell_type": "markdown",
      "metadata": {
        "id": "TQLq5PB6XlE0"
      },
      "source": [
        "**[6장: 107페이지]**"
      ]
    },
    {
      "cell_type": "code",
      "metadata": {
        "id": "b0o0bTM3XlE0"
      },
      "source": [
        ""
      ],
      "execution_count": null,
      "outputs": []
    },
    {
      "cell_type": "markdown",
      "metadata": {
        "id": "pcEH3uR3XlE0"
      },
      "source": [
        "**[6장: 108페이지]**"
      ]
    },
    {
      "cell_type": "code",
      "metadata": {
        "id": "yvjh_ilfXlE1"
      },
      "source": [
        ""
      ],
      "execution_count": null,
      "outputs": []
    },
    {
      "cell_type": "markdown",
      "metadata": {
        "id": "A1TFEiTIXlE1"
      },
      "source": [
        "### 파일에서 문자열 한 줄씩 읽기"
      ]
    },
    {
      "cell_type": "markdown",
      "metadata": {
        "id": "MG7KJah5XlE1"
      },
      "source": [
        "#### readline()"
      ]
    },
    {
      "cell_type": "markdown",
      "metadata": {
        "id": "VwZd9tinXlE5"
      },
      "source": [
        "**[6장: 109페이지]**"
      ]
    },
    {
      "cell_type": "code",
      "metadata": {
        "scrolled": true,
        "id": "KWKDjbmJXlE5"
      },
      "source": [
        ""
      ],
      "execution_count": null,
      "outputs": []
    },
    {
      "cell_type": "markdown",
      "metadata": {
        "id": "sGQSVmKFXlE6"
      },
      "source": [
        "**[6장: 109페이지]**"
      ]
    },
    {
      "cell_type": "code",
      "metadata": {
        "id": "MFLpBd51XlE6"
      },
      "source": [
        ""
      ],
      "execution_count": null,
      "outputs": []
    },
    {
      "cell_type": "markdown",
      "metadata": {
        "id": "_h7LpqaaXlE6"
      },
      "source": [
        "#### readlines()"
      ]
    },
    {
      "cell_type": "markdown",
      "metadata": {
        "id": "BEAHxLhkXlE6"
      },
      "source": [
        "**[6장: 110페이지]**"
      ]
    },
    {
      "cell_type": "code",
      "metadata": {
        "id": "DCd28ssVXlE7"
      },
      "source": [
        ""
      ],
      "execution_count": null,
      "outputs": []
    },
    {
      "cell_type": "markdown",
      "metadata": {
        "id": "UtWRa07iXlE7"
      },
      "source": [
        "**[6장: 110페이지]**"
      ]
    },
    {
      "cell_type": "code",
      "metadata": {
        "scrolled": true,
        "id": "1WIir4TtXlE7"
      },
      "source": [
        ""
      ],
      "execution_count": null,
      "outputs": []
    },
    {
      "cell_type": "markdown",
      "metadata": {
        "id": "s_PP68jTXlE7"
      },
      "source": [
        "**[6장: 111페이지]**"
      ]
    },
    {
      "cell_type": "code",
      "metadata": {
        "id": "VFwZ92qVXlE7"
      },
      "source": [
        ""
      ],
      "execution_count": null,
      "outputs": []
    },
    {
      "cell_type": "markdown",
      "metadata": {
        "id": "Rda5z-InXlE8"
      },
      "source": [
        "**[6장: 111페이지]**"
      ]
    },
    {
      "cell_type": "code",
      "metadata": {
        "id": "1YW0c33DXlE8"
      },
      "source": [
        ""
      ],
      "execution_count": null,
      "outputs": []
    },
    {
      "cell_type": "markdown",
      "metadata": {
        "id": "7QCCZYgWXlE8"
      },
      "source": [
        "## 6.5 with 문을 활용해 파일 읽고 쓰기"
      ]
    },
    {
      "cell_type": "markdown",
      "metadata": {
        "id": "iU-JeH_yXlE8"
      },
      "source": [
        "### with 문의 구조"
      ]
    },
    {
      "cell_type": "markdown",
      "metadata": {
        "id": "9Mjk46-YXlE9"
      },
      "source": [
        "**[6장: 112페이지]**"
      ]
    },
    {
      "cell_type": "code",
      "metadata": {
        "id": "19d67yC1XlE9"
      },
      "source": [
        ""
      ],
      "execution_count": null,
      "outputs": []
    },
    {
      "cell_type": "markdown",
      "metadata": {
        "id": "CRfo4R7uXlE9"
      },
      "source": [
        "**[6장: 112페이지]**"
      ]
    },
    {
      "cell_type": "code",
      "metadata": {
        "id": "S56zhq0AXlE9"
      },
      "source": [
        ""
      ],
      "execution_count": null,
      "outputs": []
    },
    {
      "cell_type": "markdown",
      "metadata": {
        "id": "mYSVTo2eXlE9"
      },
      "source": [
        "### with문의 활용"
      ]
    },
    {
      "cell_type": "markdown",
      "metadata": {
        "id": "6BJIOY63XlE-"
      },
      "source": [
        "**[6장: 113페이지]**"
      ]
    },
    {
      "cell_type": "code",
      "metadata": {
        "id": "bx55LcknXlE-"
      },
      "source": [
        ""
      ],
      "execution_count": null,
      "outputs": []
    },
    {
      "cell_type": "markdown",
      "metadata": {
        "id": "zkZxwpQxXlE-"
      },
      "source": [
        "**[6장: 113페이지]**"
      ]
    },
    {
      "cell_type": "code",
      "metadata": {
        "code_folding": [],
        "id": "EEZjRlZ3XlE-"
      },
      "source": [
        ""
      ],
      "execution_count": null,
      "outputs": []
    },
    {
      "cell_type": "markdown",
      "metadata": {
        "id": "eLQIZuXLXlE_"
      },
      "source": [
        "**[6장: 113페이지]**"
      ]
    },
    {
      "cell_type": "code",
      "metadata": {
        "id": "YZHH7dKhXlE_"
      },
      "source": [
        ""
      ],
      "execution_count": null,
      "outputs": []
    },
    {
      "cell_type": "markdown",
      "metadata": {
        "id": "ywyCM00_XlE_"
      },
      "source": [
        "**[6장: 114페이지]**"
      ]
    },
    {
      "cell_type": "code",
      "metadata": {
        "id": "_9IVdj6hXlE_"
      },
      "source": [
        ""
      ],
      "execution_count": null,
      "outputs": []
    },
    {
      "cell_type": "markdown",
      "metadata": {
        "id": "UxoYJJgSXlE_"
      },
      "source": [
        "# 6.6 정리"
      ]
    }
  ]
}