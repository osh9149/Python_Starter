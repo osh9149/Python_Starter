{
  "nbformat": 4,
  "nbformat_minor": 0,
  "metadata": {
    "anaconda-cloud": {},
    "kernelspec": {
      "display_name": "Python 3",
      "language": "python",
      "name": "python3"
    },
    "language_info": {
      "codemirror_mode": {
        "name": "ipython",
        "version": 3
      },
      "file_extension": ".py",
      "mimetype": "text/x-python",
      "name": "python",
      "nbconvert_exporter": "python",
      "pygments_lexer": "ipython3",
      "version": "3.6.4"
    },
    "latex_envs": {
      "bibliofile": "biblio.bib",
      "cite_by": "apalike",
      "current_citInitial": 1,
      "eqLabelWithNumbers": true,
      "eqNumInitial": 0
    },
    "nav_menu": {},
    "toc": {
      "nav_menu": {
        "height": "159px",
        "width": "252px"
      },
      "number_sections": false,
      "sideBar": true,
      "skip_h1_title": false,
      "toc_cell": false,
      "toc_position": {
        "height": "582px",
        "left": "0px",
        "right": "1052px",
        "top": "111px",
        "width": "314px"
      },
      "toc_section_display": "block",
      "toc_window_display": false
    },
    "toc_position": {
      "left": "1045px",
      "right": "20px",
      "top": "119px",
      "width": "300px"
    },
    "colab": {
      "name": "Chapter_05_if_for_while(실습용).ipynb",
      "provenance": [],
      "collapsed_sections": [
        "h5YZDJQtXE18",
        "qp3orptMXE2C"
      ],
      "include_colab_link": true
    }
  },
  "cells": [
    {
      "cell_type": "markdown",
      "metadata": {
        "id": "view-in-github",
        "colab_type": "text"
      },
      "source": [
        "<a href=\"https://colab.research.google.com/github/osh9149/Python_Starter/blob/main/Chapter_05_if_for_while(%EC%8B%A4%EC%8A%B5%EC%9A%A9).ipynb\" target=\"_parent\"><img src=\"https://colab.research.google.com/assets/colab-badge.svg\" alt=\"Open In Colab\"/></a>"
      ]
    },
    {
      "cell_type": "markdown",
      "metadata": {
        "id": "JQBJD1I6XE1s"
      },
      "source": [
        "# 5장 제어문"
      ]
    },
    {
      "cell_type": "markdown",
      "metadata": {
        "id": "vcQZYh86XE11"
      },
      "source": [
        "## 5.1 조건에 따라 분기하는 if 문"
      ]
    },
    {
      "cell_type": "markdown",
      "metadata": {
        "id": "einZPm7QXE12"
      },
      "source": [
        "### 단일 조건에 따른 분기(if)"
      ]
    },
    {
      "cell_type": "markdown",
      "metadata": {
        "id": "QArGiocjXE12"
      },
      "source": [
        "**[5장: 72페이지]**"
      ]
    },
    {
      "cell_type": "code",
      "metadata": {
        "code_folding": [],
        "scrolled": true,
        "id": "4Bdo2hC8XE13"
      },
      "source": [
        ""
      ],
      "execution_count": null,
      "outputs": []
    },
    {
      "cell_type": "markdown",
      "metadata": {
        "id": "Jw11Td-wXE14"
      },
      "source": [
        "### 단일 조건 및 그 외 조건에 따른 분기(if ~ else)"
      ]
    },
    {
      "cell_type": "markdown",
      "metadata": {
        "id": "5X1FXVZhXE14"
      },
      "source": [
        "**[5장: 73페이지]**"
      ]
    },
    {
      "cell_type": "code",
      "metadata": {
        "id": "ByjB9butXE14"
      },
      "source": [
        ""
      ],
      "execution_count": null,
      "outputs": []
    },
    {
      "cell_type": "markdown",
      "metadata": {
        "id": "tMs587F8XE15"
      },
      "source": [
        "### 여러 조건에 따른 분기(if ~ elif ~ else)"
      ]
    },
    {
      "cell_type": "markdown",
      "metadata": {
        "id": "1dP3HRQmXE15"
      },
      "source": [
        "**[5장: 75페이지]**"
      ]
    },
    {
      "cell_type": "code",
      "metadata": {
        "id": "AEFHV8ZgXE15"
      },
      "source": [
        ""
      ],
      "execution_count": null,
      "outputs": []
    },
    {
      "cell_type": "markdown",
      "metadata": {
        "id": "sP8XlVpvXE16"
      },
      "source": [
        "**[5장: 75페이지]**"
      ]
    },
    {
      "cell_type": "code",
      "metadata": {
        "id": "kQot8zhgXE16"
      },
      "source": [
        ""
      ],
      "execution_count": null,
      "outputs": []
    },
    {
      "cell_type": "markdown",
      "metadata": {
        "id": "JzwXJ4ZxXE16"
      },
      "source": [
        "### 중첩 조건에 따른 분기"
      ]
    },
    {
      "cell_type": "markdown",
      "metadata": {
        "id": "AbjIiHu8XE17"
      },
      "source": [
        "**[5장: 77페이지]**"
      ]
    },
    {
      "cell_type": "code",
      "metadata": {
        "id": "5kRv2BsYXE17"
      },
      "source": [
        ""
      ],
      "execution_count": null,
      "outputs": []
    },
    {
      "cell_type": "markdown",
      "metadata": {
        "id": "lZs7mZqTXE17"
      },
      "source": [
        "## 5.2 지정된 범위만큼 반복하는 for 문"
      ]
    },
    {
      "cell_type": "markdown",
      "metadata": {
        "id": "sqWMSAU7XE17"
      },
      "source": [
        "### 반복문의 필요성"
      ]
    },
    {
      "cell_type": "markdown",
      "metadata": {
        "id": "D8GhtYJ5XE17"
      },
      "source": [
        "**[5장: 78페이지]**"
      ]
    },
    {
      "cell_type": "code",
      "metadata": {
        "id": "2eXSRt70XE18"
      },
      "source": [
        ""
      ],
      "execution_count": null,
      "outputs": []
    },
    {
      "cell_type": "markdown",
      "metadata": {
        "id": "h5YZDJQtXE18"
      },
      "source": [
        "### for 문의 구조\n",
        "\n"
      ]
    },
    {
      "cell_type": "markdown",
      "metadata": {
        "id": "hEuSn00SXE18"
      },
      "source": [
        "### 반복 범위 지정"
      ]
    },
    {
      "cell_type": "markdown",
      "metadata": {
        "id": "WWzeSH9kXE18"
      },
      "source": [
        "#### 리스트 이용"
      ]
    },
    {
      "cell_type": "markdown",
      "metadata": {
        "id": "xlXH-L_vXE18"
      },
      "source": [
        "**[5장: 80페이지]**"
      ]
    },
    {
      "cell_type": "code",
      "metadata": {
        "id": "W-J7gahbXE19",
        "colab": {
          "base_uri": "https://localhost:8080/"
        },
        "outputId": "82274fa9-afff-492b-de2b-3e9ec956829f"
      },
      "source": [
        ""
      ],
      "execution_count": null,
      "outputs": [
        {
          "output_type": "stream",
          "text": [
            "0\n",
            "1\n",
            "2\n",
            "3\n",
            "4\n",
            "5\n"
          ],
          "name": "stdout"
        }
      ]
    },
    {
      "cell_type": "markdown",
      "metadata": {
        "id": "zBgPSt8zXE19"
      },
      "source": [
        "**[5장: 81페이지]**"
      ]
    },
    {
      "cell_type": "code",
      "metadata": {
        "id": "98VID3iLXE19",
        "colab": {
          "base_uri": "https://localhost:8080/"
        },
        "outputId": "77af0f4f-f3be-4210-a14f-afddf104f779"
      },
      "source": [
        ""
      ],
      "execution_count": null,
      "outputs": [
        {
          "output_type": "stream",
          "text": [
            "James\n",
            "Robert\n",
            "Lisa\n",
            "Mary\n"
          ],
          "name": "stdout"
        }
      ]
    },
    {
      "cell_type": "markdown",
      "metadata": {
        "id": "yf4tSWUOXE19"
      },
      "source": [
        "#### range() 함수 이용"
      ]
    },
    {
      "cell_type": "markdown",
      "metadata": {
        "id": "7Ds5MjTmXE19"
      },
      "source": [
        "**[5장: 82페이지]**"
      ]
    },
    {
      "cell_type": "code",
      "metadata": {
        "id": "hzadFDHWXE1-",
        "colab": {
          "base_uri": "https://localhost:8080/"
        },
        "outputId": "92c8b135-b537-4748-d51f-2144919ea14f"
      },
      "source": [
        ""
      ],
      "execution_count": null,
      "outputs": [
        {
          "output_type": "stream",
          "text": [
            "range(0, 10)\n"
          ],
          "name": "stdout"
        }
      ]
    },
    {
      "cell_type": "markdown",
      "metadata": {
        "id": "Cji3-prQXE1-"
      },
      "source": [
        "**[5장: 82페이지]**"
      ]
    },
    {
      "cell_type": "code",
      "metadata": {
        "id": "ePyunansXE1-",
        "colab": {
          "base_uri": "https://localhost:8080/"
        },
        "outputId": "ec9fcbf2-d73a-4fbc-ae98-0a8866390265"
      },
      "source": [
        ""
      ],
      "execution_count": null,
      "outputs": [
        {
          "output_type": "stream",
          "text": [
            "[0, 1, 2, 3, 4, 5, 6, 7, 8, 9]\n"
          ],
          "name": "stdout"
        }
      ]
    },
    {
      "cell_type": "markdown",
      "metadata": {
        "id": "4SWdjeb5XE1-"
      },
      "source": [
        "**[5장: 82페이지]**"
      ]
    },
    {
      "cell_type": "code",
      "metadata": {
        "id": "KGMCH05yXE1-",
        "colab": {
          "base_uri": "https://localhost:8080/"
        },
        "outputId": "14cc6c21-9dff-4782-ea77-d60d32ece761"
      },
      "source": [
        ""
      ],
      "execution_count": null,
      "outputs": [
        {
          "output_type": "stream",
          "text": [
            "0\n",
            "1\n",
            "2\n",
            "3\n",
            "4\n",
            "5\n"
          ],
          "name": "stdout"
        }
      ]
    },
    {
      "cell_type": "markdown",
      "metadata": {
        "id": "QOUuI4lMXE1-"
      },
      "source": [
        "**[5장: 82페이지]**"
      ]
    },
    {
      "cell_type": "code",
      "metadata": {
        "id": "aKvr3ZbRXE1_",
        "colab": {
          "base_uri": "https://localhost:8080/"
        },
        "outputId": "29f3da7b-3f29-4941-b523-b6bb8e1552a4"
      },
      "source": [
        ""
      ],
      "execution_count": null,
      "outputs": [
        {
          "output_type": "stream",
          "text": [
            "0\n",
            "2\n",
            "4\n"
          ],
          "name": "stdout"
        }
      ]
    },
    {
      "cell_type": "markdown",
      "metadata": {
        "id": "RjJCZCK3XE1_"
      },
      "source": [
        "**[5장: 83페이지]**"
      ]
    },
    {
      "cell_type": "code",
      "metadata": {
        "id": "x7rJ2TuWXE1_",
        "colab": {
          "base_uri": "https://localhost:8080/"
        },
        "outputId": "38b956f9-6114-4e35-afcf-c3db0d5f9566"
      },
      "source": [
        ""
      ],
      "execution_count": null,
      "outputs": [
        {
          "output_type": "stream",
          "text": [
            "[0, 1, 2, 3, 4, 5, 6, 7, 8, 9]\n",
            "[0, 1, 2, 3, 4, 5, 6, 7, 8, 9]\n",
            "[0, 1, 2, 3, 4, 5, 6, 7, 8, 9]\n"
          ],
          "name": "stdout"
        }
      ]
    },
    {
      "cell_type": "markdown",
      "metadata": {
        "id": "Tnhk7kAUXE1_"
      },
      "source": [
        "**[5장: 83페이지]**"
      ]
    },
    {
      "cell_type": "code",
      "metadata": {
        "id": "iBQ377ppXE1_",
        "colab": {
          "base_uri": "https://localhost:8080/"
        },
        "outputId": "e7c01ee7-c8a6-4701-b0a0-d45658bd30cd"
      },
      "source": [
        ""
      ],
      "execution_count": null,
      "outputs": [
        {
          "output_type": "stream",
          "text": [
            "[0, 5, 10, 15]\n",
            "[-10, -8, -6, -4, -2]\n",
            "[3, 0, -3, -6, -9]\n",
            "[]\n"
          ],
          "name": "stdout"
        }
      ]
    },
    {
      "cell_type": "markdown",
      "metadata": {
        "id": "KJNptQLuXE2A"
      },
      "source": [
        "### 중첩 for 문"
      ]
    },
    {
      "cell_type": "markdown",
      "metadata": {
        "id": "D7mlHHRFXE2A"
      },
      "source": [
        "**[5장: 84페이지]**"
      ]
    },
    {
      "cell_type": "code",
      "metadata": {
        "id": "rxqZuNhgXE2A"
      },
      "source": [
        ""
      ],
      "execution_count": null,
      "outputs": []
    },
    {
      "cell_type": "markdown",
      "metadata": {
        "id": "G5lDz3-hXE2A"
      },
      "source": [
        "### 여러 개의 리스트 다루기"
      ]
    },
    {
      "cell_type": "markdown",
      "metadata": {
        "id": "vtsTxXGxXE2A"
      },
      "source": [
        "**[5장: 85페이지]**"
      ]
    },
    {
      "cell_type": "code",
      "metadata": {
        "id": "jJRrsGpDXE2B"
      },
      "source": [
        ""
      ],
      "execution_count": null,
      "outputs": []
    },
    {
      "cell_type": "markdown",
      "metadata": {
        "id": "5qNqmfQgXE2B"
      },
      "source": [
        "**[5장: 85페이지]**"
      ]
    },
    {
      "cell_type": "code",
      "metadata": {
        "id": "d5SfMGFOXE2B"
      },
      "source": [
        ""
      ],
      "execution_count": null,
      "outputs": []
    },
    {
      "cell_type": "markdown",
      "metadata": {
        "id": "tMu0noc3XE2B"
      },
      "source": [
        "**[5장: 86페이지]**"
      ]
    },
    {
      "cell_type": "code",
      "metadata": {
        "id": "23XUx_A8XE2B"
      },
      "source": [
        ""
      ],
      "execution_count": null,
      "outputs": []
    },
    {
      "cell_type": "markdown",
      "metadata": {
        "id": "UBhoWhwkXE2B"
      },
      "source": [
        "## 5.3 조건에 따라 반복하는 while 문"
      ]
    },
    {
      "cell_type": "markdown",
      "metadata": {
        "id": "ah17hwsEXE2C"
      },
      "source": [
        "### while 문의 구조"
      ]
    },
    {
      "cell_type": "markdown",
      "metadata": {
        "id": "d94uu5_sXE2C"
      },
      "source": [
        "**[5장: 87페이지]**"
      ]
    },
    {
      "cell_type": "code",
      "metadata": {
        "id": "i2eMIA8gXE2C"
      },
      "source": [
        ""
      ],
      "execution_count": null,
      "outputs": []
    },
    {
      "cell_type": "markdown",
      "metadata": {
        "id": "qp3orptMXE2C"
      },
      "source": [
        "### 무한 반복 while 문"
      ]
    },
    {
      "cell_type": "markdown",
      "metadata": {
        "id": "GNnxaZJ2XE2C"
      },
      "source": [
        "## 5.4 반복문을 제어하는 break와 continue"
      ]
    },
    {
      "cell_type": "markdown",
      "metadata": {
        "id": "GYzahPT2XE2D"
      },
      "source": [
        "### 반복문을 빠져나오는 break"
      ]
    },
    {
      "cell_type": "markdown",
      "metadata": {
        "id": "oUX_onCdXE2D"
      },
      "source": [
        "**[5장: 89페이지]**"
      ]
    },
    {
      "cell_type": "code",
      "metadata": {
        "id": "GooFNf45XE2D"
      },
      "source": [
        ""
      ],
      "execution_count": null,
      "outputs": []
    },
    {
      "cell_type": "markdown",
      "metadata": {
        "id": "i0ZNVrMfXE2D"
      },
      "source": [
        "**[5장: 89페이지]**"
      ]
    },
    {
      "cell_type": "code",
      "metadata": {
        "id": "Ca97c7bqXE2D"
      },
      "source": [
        "    "
      ],
      "execution_count": null,
      "outputs": []
    },
    {
      "cell_type": "markdown",
      "metadata": {
        "id": "k3u33C8bXE2D"
      },
      "source": [
        "### 다음 반복을 실행하는 continue"
      ]
    },
    {
      "cell_type": "markdown",
      "metadata": {
        "id": "Ll-cDiDiXE2E"
      },
      "source": [
        "**[5장: 90페이지]**"
      ]
    },
    {
      "cell_type": "code",
      "metadata": {
        "scrolled": true,
        "id": "wiZ0ERRRXE2E"
      },
      "source": [
        ""
      ],
      "execution_count": null,
      "outputs": []
    },
    {
      "cell_type": "markdown",
      "metadata": {
        "id": "MKyvDBodXE2E"
      },
      "source": [
        "**[5장: 91페이지]**"
      ]
    },
    {
      "cell_type": "code",
      "metadata": {
        "id": "R_YPIOI4XE2E"
      },
      "source": [
        ""
      ],
      "execution_count": null,
      "outputs": []
    },
    {
      "cell_type": "markdown",
      "metadata": {
        "id": "lTNWiHgiXE2E"
      },
      "source": [
        "## 5.5 간단하게 반복하는 한 줄 for 문"
      ]
    },
    {
      "cell_type": "markdown",
      "metadata": {
        "id": "PUk3U6lIXE2F"
      },
      "source": [
        "### 리스트 컴프리헨션의 기본 구조"
      ]
    },
    {
      "cell_type": "markdown",
      "metadata": {
        "id": "qtfW6zd6XE2F"
      },
      "source": [
        "**[5장: 92페이지]**"
      ]
    },
    {
      "cell_type": "code",
      "metadata": {
        "id": "boLh7AG4XE2F"
      },
      "source": [
        ""
      ],
      "execution_count": null,
      "outputs": []
    },
    {
      "cell_type": "markdown",
      "metadata": {
        "id": "bejDa010XE2F"
      },
      "source": [
        "**[5장: 92페이지]**"
      ]
    },
    {
      "cell_type": "code",
      "metadata": {
        "id": "rj87XDdvXE2F"
      },
      "source": [
        ""
      ],
      "execution_count": null,
      "outputs": []
    },
    {
      "cell_type": "markdown",
      "metadata": {
        "id": "l3dRPOW0XE2F"
      },
      "source": [
        "### 조건문을 포함한 리스트 컴프리헨션"
      ]
    },
    {
      "cell_type": "markdown",
      "metadata": {
        "id": "MnejYGCUXE2F"
      },
      "source": [
        "**[5장: 93페이지]**"
      ]
    },
    {
      "cell_type": "code",
      "metadata": {
        "id": "eQTP4pGAXE2G"
      },
      "source": [
        ""
      ],
      "execution_count": null,
      "outputs": []
    },
    {
      "cell_type": "markdown",
      "metadata": {
        "id": "izPx9Ep6XE2G"
      },
      "source": [
        "**[5장: 93페이지]**"
      ]
    },
    {
      "cell_type": "code",
      "metadata": {
        "id": "3Fe5AuOfXE2G"
      },
      "source": [
        ""
      ],
      "execution_count": null,
      "outputs": []
    },
    {
      "cell_type": "markdown",
      "metadata": {
        "id": "lS3tdQHKXE2G"
      },
      "source": [
        "# 5.6 정리"
      ]
    }
  ]
}