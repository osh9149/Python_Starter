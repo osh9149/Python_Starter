{
  "nbformat": 4,
  "nbformat_minor": 0,
  "metadata": {
    "colab": {
      "name": "입력-조건문.ipynb",
      "provenance": [],
      "collapsed_sections": [],
      "authorship_tag": "ABX9TyMFm5rzXx9miisIaUG6yUQK",
      "include_colab_link": true
    },
    "kernelspec": {
      "name": "python3",
      "display_name": "Python 3"
    },
    "language_info": {
      "name": "python"
    }
  },
  "cells": [
    {
      "cell_type": "markdown",
      "metadata": {
        "id": "view-in-github",
        "colab_type": "text"
      },
      "source": [
        "<a href=\"https://colab.research.google.com/github/osh9149/Python_Starter/blob/main/%EC%9E%85%EB%A0%A5_%EC%A1%B0%EA%B1%B4%EB%AC%B8.ipynb\" target=\"_parent\"><img src=\"https://colab.research.google.com/assets/colab-badge.svg\" alt=\"Open In Colab\"/></a>"
      ]
    },
    {
      "cell_type": "code",
      "metadata": {
        "colab": {
          "base_uri": "https://localhost:8080/"
        },
        "id": "0e1-i-C8sYYO",
        "outputId": "95ede332-0216-413e-902a-c28c12fdf488"
      },
      "source": [
        "x=10\n",
        "y=3\n",
        "print(x+y)\n",
        "print(x-y)\n",
        "print(x*y)\n",
        "print(x/y)\n",
        "print(x//y)\n",
        "print(x%y)"
      ],
      "execution_count": 8,
      "outputs": [
        {
          "output_type": "stream",
          "text": [
            "13\n",
            "7\n",
            "30\n",
            "3.3333333333333335\n",
            "3\n",
            "1\n"
          ],
          "name": "stdout"
        }
      ]
    },
    {
      "cell_type": "code",
      "metadata": {
        "colab": {
          "base_uri": "https://localhost:8080/"
        },
        "id": "ldYDtt4POFRm",
        "outputId": "4fa0da87-bc78-4985-c7fc-d80464095737"
      },
      "source": [
        "x=int(input())\n",
        "y=int(input())\n",
        "print(x+y)\n"
      ],
      "execution_count": null,
      "outputs": [
        {
          "output_type": "stream",
          "text": [
            "10\n",
            "5\n",
            "15\n"
          ],
          "name": "stdout"
        }
      ]
    },
    {
      "cell_type": "code",
      "metadata": {
        "colab": {
          "base_uri": "https://localhost:8080/"
        },
        "id": "5TtvqH-DQURz",
        "outputId": "97d55e3a-8a7a-4370-fbce-b62266b26852"
      },
      "source": [
        "x=input()\n",
        "y=int(input())\n",
        "print('제이름은 {}이고 나이는 {}살입니다.'.format(x,y))"
      ],
      "execution_count": 9,
      "outputs": [
        {
          "output_type": "stream",
          "text": [
            "김한양\n",
            "17\n",
            "제이름은 김한양이고 나이는 17살입니다.\n"
          ],
          "name": "stdout"
        }
      ]
    },
    {
      "cell_type": "code",
      "metadata": {
        "colab": {
          "base_uri": "https://localhost:8080/"
        },
        "id": "7gzlL0K7RJc7",
        "outputId": "5b82c51c-3597-464a-af1b-db9d8c05388b"
      },
      "source": [
        "age=int(input('나이 : '))\n",
        "if age>=17:\n",
        "    print('고등학생')\n",
        "else:\n",
        "    print('중학생')"
      ],
      "execution_count": null,
      "outputs": [
        {
          "output_type": "stream",
          "text": [
            "나이 : 14\n",
            "중학생\n"
          ],
          "name": "stdout"
        }
      ]
    },
    {
      "cell_type": "code",
      "metadata": {
        "id": "wIKZT4SATJ9b"
      },
      "source": [
        "#나이를  입력 17\n",
        "age=int(input('나이 : '))\n",
        "if age>=19:\n",
        "    print('성인')\n",
        "elif age>=17:\n",
        "    print('고등학생')\n",
        "elif age>=14:\n",
        "    print('중학생')\n",
        "else:\n",
        "    print('초등학생')"
      ],
      "execution_count": null,
      "outputs": []
    },
    {
      "cell_type": "markdown",
      "metadata": {
        "id": "VCmi_SnYh9JV"
      },
      "source": [
        "연습문제 : 점수를 입력받아 학점을 출력하세요"
      ]
    },
    {
      "cell_type": "code",
      "metadata": {
        "id": "iKWP5-fLTYMT",
        "colab": {
          "base_uri": "https://localhost:8080/"
        },
        "outputId": "299b0c5b-9894-4a96-97a4-cbe98e34d2d8"
      },
      "source": [
        "#평균이 90점이상이면 'A'80점이상이면 'B', 70점이상이면 'C' 나머지는 'F'\n",
        "\n",
        "avg=int(input('평균점수 : '))\n",
        "if avg>=90:\n",
        "    grade='A'\n",
        "elif avg>=80:\n",
        "    grade='B'\n",
        "elif avg>=70:\n",
        "    grade='C'\n",
        "else:\n",
        "    grade='F'\n",
        "\n",
        "print('학생의 평균은 {}학점입니다.'.format(grade))"
      ],
      "execution_count": 11,
      "outputs": [
        {
          "output_type": "stream",
          "text": [
            "평균점수 : 88\n",
            "학생의 평균은 B학점입니다.\n"
          ],
          "name": "stdout"
        }
      ]
    },
    {
      "cell_type": "markdown",
      "metadata": {
        "id": "61gVmWXwtldP"
      },
      "source": [
        "input().split('-') : 입력받은 문자열을 '-' 기준으로 나눈다."
      ]
    },
    {
      "cell_type": "code",
      "metadata": {
        "id": "dySA_IM6q9ro",
        "colab": {
          "base_uri": "https://localhost:8080/"
        },
        "outputId": "8cca214a-22de-489a-f25c-b45be9e4e1f2"
      },
      "source": [
        "\n",
        "id=input('주민번호를 입력하세요 : ')\n",
        "print(id)\n"
      ],
      "execution_count": null,
      "outputs": [
        {
          "output_type": "stream",
          "text": [
            "주민번호를 입력하세요 : 020130-3042924\n",
            "020130-3042924\n"
          ],
          "name": "stdout"
        }
      ]
    },
    {
      "cell_type": "code",
      "metadata": {
        "colab": {
          "base_uri": "https://localhost:8080/"
        },
        "id": "j8yVTBQDkMp0",
        "outputId": "a3cac7ff-afc9-46d2-90fa-d1b3c964816e"
      },
      "source": [
        "id1,id2=input('주민번호를 입력하세요 : ').split('-')\n",
        "print(id1, len(id1)) #len : 문자열의 길이를 구하는 함수\n",
        "print(id2, len(id2))"
      ],
      "execution_count": 14,
      "outputs": [
        {
          "output_type": "stream",
          "text": [
            "주민번호를 입력하세요 : 020303-4042921\n",
            "020303 6\n",
            "4042921 7\n"
          ],
          "name": "stdout"
        }
      ]
    },
    {
      "cell_type": "code",
      "metadata": {
        "colab": {
          "base_uri": "https://localhost:8080/"
        },
        "id": "FSSKflq7ktm5",
        "outputId": "49ce0fb5-0b5d-486e-cae8-5b17c0c0563d"
      },
      "source": [
        " #981214\n",
        "year=id1[0:2]  #'98'\n",
        "gender=id2[0]   #1 또는 2\n",
        "if gender=='1' or gender=='2':\n",
        "   age=1900+int(year)\n",
        "else:\n",
        "    age=2000+int(year)\n",
        "\n",
        "print(age)"
      ],
      "execution_count": 15,
      "outputs": [
        {
          "output_type": "stream",
          "text": [
            "2002\n"
          ],
          "name": "stdout"
        }
      ]
    },
    {
      "cell_type": "markdown",
      "metadata": {
        "id": "0frkOdmltbEc"
      },
      "source": [
        "from datetime import datetime\n",
        "\n",
        "datetime.today()            # 현재 날짜 가져오기\n",
        "\n",
        "datetime.today().year        # 현재 연도 가져오기\n",
        "\n",
        "datetime.today().month      # 현재 월 가져오기\n",
        "\n",
        "datetime.today().day        # 현재 일 가져오기\n",
        "\n",
        "datetime.today().hour        # 현재 시간 가져오기"
      ]
    },
    {
      "cell_type": "code",
      "metadata": {
        "colab": {
          "base_uri": "https://localhost:8080/"
        },
        "id": "pX3Aaa4Ftbb1",
        "outputId": "042df8d7-014c-48f4-e9e3-977b968b0dc5"
      },
      "source": [
        "from datetime import datetime\n",
        "\n",
        "# print(datetime.today().year-age)\n",
        "result=datetime.today().year-age\n",
        "if result>=19:\n",
        "    print('성인인증')\n",
        "else:\n",
        "    print('미성년')"
      ],
      "execution_count": 16,
      "outputs": [
        {
          "output_type": "stream",
          "text": [
            "성인인증\n"
          ],
          "name": "stdout"
        }
      ]
    },
    {
      "cell_type": "code",
      "metadata": {
        "id": "jOlIwmgOuH1I"
      },
      "source": [
        ""
      ],
      "execution_count": null,
      "outputs": []
    }
  ]
}