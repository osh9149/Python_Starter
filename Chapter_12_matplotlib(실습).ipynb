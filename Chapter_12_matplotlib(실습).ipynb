{
  "nbformat": 4,
  "nbformat_minor": 0,
  "metadata": {
    "anaconda-cloud": {},
    "kernelspec": {
      "display_name": "Python 3",
      "language": "python",
      "name": "python3"
    },
    "language_info": {
      "codemirror_mode": {
        "name": "ipython",
        "version": 3
      },
      "file_extension": ".py",
      "mimetype": "text/x-python",
      "name": "python",
      "nbconvert_exporter": "python",
      "pygments_lexer": "ipython3",
      "version": "3.6.4"
    },
    "latex_envs": {
      "LaTeX_envs_menu_present": true,
      "autoclose": false,
      "autocomplete": true,
      "bibliofile": "biblio.bib",
      "cite_by": "apalike",
      "current_citInitial": 1,
      "eqLabelWithNumbers": true,
      "eqNumInitial": 1,
      "hotkeys": {
        "equation": "Ctrl-E",
        "itemize": "Ctrl-I"
      },
      "labels_anchors": false,
      "latex_user_defs": false,
      "report_style_numbering": false,
      "user_envs_cfg": false
    },
    "nav_menu": {},
    "toc": {
      "nav_menu": {
        "height": "419px",
        "width": "252px"
      },
      "number_sections": false,
      "sideBar": true,
      "skip_h1_title": false,
      "toc_cell": false,
      "toc_position": {
        "height": "545px",
        "left": "0px",
        "right": "1154px",
        "top": "111px",
        "width": "212px"
      },
      "toc_section_display": "block",
      "toc_window_display": false
    },
    "toc_position": {
      "height": "552px",
      "left": "0px",
      "right": "1051px",
      "top": "107px",
      "width": "315px"
    },
    "colab": {
      "name": "Chapter_12_matplotlib(실습).ipynb",
      "provenance": [],
      "collapsed_sections": [
        "Kukf-A2WZ_OU"
      ],
      "include_colab_link": true
    }
  },
  "cells": [
    {
      "cell_type": "markdown",
      "metadata": {
        "id": "view-in-github",
        "colab_type": "text"
      },
      "source": [
        "<a href=\"https://colab.research.google.com/github/osh9149/Python_Starter/blob/main/Chapter_12_matplotlib(%EC%8B%A4%EC%8A%B5).ipynb\" target=\"_parent\"><img src=\"https://colab.research.google.com/assets/colab-badge.svg\" alt=\"Open In Colab\"/></a>"
      ]
    },
    {
      "cell_type": "markdown",
      "metadata": {
        "id": "v1UwxA_PZ_Nz"
      },
      "source": [
        "# 12장 데이터 시각화"
      ]
    },
    {
      "cell_type": "markdown",
      "metadata": {
        "id": "ZDnQbtEKZ_N6"
      },
      "source": [
        "## 12.1 matplotlib로 그래프 그리기"
      ]
    },
    {
      "cell_type": "markdown",
      "metadata": {
        "id": "cl1tGeVzZ_N6"
      },
      "source": [
        "**[12장: 284페이지]**"
      ]
    },
    {
      "cell_type": "code",
      "metadata": {
        "id": "c1OB2lVKZ_N7"
      },
      "source": [
        ""
      ],
      "execution_count": null,
      "outputs": []
    },
    {
      "cell_type": "markdown",
      "metadata": {
        "id": "6KUFv--yZ_N7"
      },
      "source": [
        "###  선 그래프"
      ]
    },
    {
      "cell_type": "markdown",
      "metadata": {
        "id": "4jQXeeYyZ_N7"
      },
      "source": [
        "####  기본적인 선 그래프 그리기"
      ]
    },
    {
      "cell_type": "markdown",
      "metadata": {
        "id": "7fszBkB8Z_N8"
      },
      "source": [
        "**[12장: 285페이지]**"
      ]
    },
    {
      "cell_type": "code",
      "metadata": {
        "id": "NZdz2yE_Z_N8"
      },
      "source": [
        ""
      ],
      "execution_count": null,
      "outputs": []
    },
    {
      "cell_type": "markdown",
      "metadata": {
        "id": "LCTwQUgDZ_N8"
      },
      "source": [
        "**[12장: 285페이지]**"
      ]
    },
    {
      "cell_type": "code",
      "metadata": {
        "scrolled": true,
        "id": "GWWfvzNQZ_N8"
      },
      "source": [
        ""
      ],
      "execution_count": null,
      "outputs": []
    },
    {
      "cell_type": "markdown",
      "metadata": {
        "id": "o9rStIQ_Z_N9"
      },
      "source": [
        "**[12장: 286페이지]**"
      ]
    },
    {
      "cell_type": "code",
      "metadata": {
        "scrolled": true,
        "id": "UusEiE6CZ_N9"
      },
      "source": [
        ""
      ],
      "execution_count": null,
      "outputs": []
    },
    {
      "cell_type": "markdown",
      "metadata": {
        "id": "CDAdQABIZ_N9"
      },
      "source": [
        "**[12장: 286페이지]**"
      ]
    },
    {
      "cell_type": "code",
      "metadata": {
        "id": "erRP8VO7Z_N9"
      },
      "source": [
        "%matplotlib qt"
      ],
      "execution_count": null,
      "outputs": []
    },
    {
      "cell_type": "markdown",
      "metadata": {
        "id": "TKlUpxXYZ_N-"
      },
      "source": [
        "**[12장: 286페이지]**"
      ]
    },
    {
      "cell_type": "code",
      "metadata": {
        "id": "SkaM9gvrZ_N-"
      },
      "source": [
        ""
      ],
      "execution_count": null,
      "outputs": []
    },
    {
      "cell_type": "markdown",
      "metadata": {
        "id": "hKotj832Z_N-"
      },
      "source": [
        "**[12장: 287페이지]**"
      ]
    },
    {
      "cell_type": "code",
      "metadata": {
        "id": "XMTma6QkZ_N-"
      },
      "source": [
        "%matplotlib inline"
      ],
      "execution_count": null,
      "outputs": []
    },
    {
      "cell_type": "markdown",
      "metadata": {
        "id": "Q8h8MxdSZ_N-"
      },
      "source": [
        "**[12장: 287페이지]**"
      ]
    },
    {
      "cell_type": "code",
      "metadata": {
        "id": "rBFz4GrrZ_N_"
      },
      "source": [
        ""
      ],
      "execution_count": null,
      "outputs": []
    },
    {
      "cell_type": "markdown",
      "metadata": {
        "id": "kMbss6gcZ_N_"
      },
      "source": [
        "**[12장: 288페이지]**"
      ]
    },
    {
      "cell_type": "code",
      "metadata": {
        "id": "1pmPxHrOZ_N_"
      },
      "source": [
        ""
      ],
      "execution_count": null,
      "outputs": []
    },
    {
      "cell_type": "markdown",
      "metadata": {
        "id": "dz0OzuoFZ_N_"
      },
      "source": [
        "#### 여러 그래프 그리기"
      ]
    },
    {
      "cell_type": "markdown",
      "metadata": {
        "id": "rDXpqbAgZ_OA"
      },
      "source": [
        "**[12장: 288 ~ 289페이지]**"
      ]
    },
    {
      "cell_type": "code",
      "metadata": {
        "id": "mUwCgi8XZ_OA"
      },
      "source": [
        "import numpy as np\n",
        "\n",
        "x = np.arange(-4.5, 5, 0.5)\n",
        "y1 = 2*x**2\n",
        "y2 = 5*x + 30\n",
        "y3 = 4*x**2 + 10"
      ],
      "execution_count": null,
      "outputs": []
    },
    {
      "cell_type": "markdown",
      "metadata": {
        "id": "UjS5QYmGZ_OA"
      },
      "source": [
        "**[12장: 289 ~ 290페이지]**"
      ]
    },
    {
      "cell_type": "code",
      "metadata": {
        "id": "lYHTx0yXZ_OA"
      },
      "source": [
        ""
      ],
      "execution_count": null,
      "outputs": []
    },
    {
      "cell_type": "markdown",
      "metadata": {
        "id": "1Iis92xjZ_OA"
      },
      "source": [
        "**[12장: 290페이지]**"
      ]
    },
    {
      "cell_type": "code",
      "metadata": {
        "id": "JDkqqNcYZ_OA"
      },
      "source": [
        ""
      ],
      "execution_count": null,
      "outputs": []
    },
    {
      "cell_type": "markdown",
      "metadata": {
        "id": "mXxOpyb_Z_OB"
      },
      "source": [
        "**[12장: 291페이지]**"
      ]
    },
    {
      "cell_type": "code",
      "metadata": {
        "id": "WjABTj9oZ_OB"
      },
      "source": [
        ""
      ],
      "execution_count": null,
      "outputs": []
    },
    {
      "cell_type": "markdown",
      "metadata": {
        "id": "-cOt8apJZ_OB"
      },
      "source": [
        "**[12장: 292페이지]**"
      ]
    },
    {
      "cell_type": "code",
      "metadata": {
        "id": "DTOimFrRZ_OB"
      },
      "source": [
        ""
      ],
      "execution_count": null,
      "outputs": []
    },
    {
      "cell_type": "markdown",
      "metadata": {
        "id": "5vMl9xfQZ_OC"
      },
      "source": [
        "**[12장: 294 ~ 295페이지]**"
      ]
    },
    {
      "cell_type": "code",
      "metadata": {
        "id": "viuaCVREZ_OC"
      },
      "source": [
        ""
      ],
      "execution_count": null,
      "outputs": []
    },
    {
      "cell_type": "markdown",
      "metadata": {
        "id": "NeARsqpuZ_OC"
      },
      "source": [
        "#### 그래프의 출력 범위 지정하기"
      ]
    },
    {
      "cell_type": "markdown",
      "metadata": {
        "id": "sk87HxOBZ_OC"
      },
      "source": [
        "**[12장: 296페이지]**"
      ]
    },
    {
      "cell_type": "code",
      "metadata": {
        "id": "eoVnI5wXZ_OC"
      },
      "source": [
        ""
      ],
      "execution_count": null,
      "outputs": []
    },
    {
      "cell_type": "markdown",
      "metadata": {
        "id": "sIPlD0WYZ_OD"
      },
      "source": [
        "**[12장: 296페이지]**"
      ]
    },
    {
      "cell_type": "code",
      "metadata": {
        "id": "O9WWPmiVZ_OD"
      },
      "source": [
        ""
      ],
      "execution_count": null,
      "outputs": []
    },
    {
      "cell_type": "markdown",
      "metadata": {
        "id": "_qFFB1GlZ_OD"
      },
      "source": [
        "###  그래프 꾸미기"
      ]
    },
    {
      "cell_type": "markdown",
      "metadata": {
        "id": "cQo-7MkoZ_OD"
      },
      "source": [
        "#### 출력 형식 지정"
      ]
    },
    {
      "cell_type": "markdown",
      "metadata": {
        "id": "yFh9TjVSZ_OD"
      },
      "source": [
        "**[12장: 299페이지]**"
      ]
    },
    {
      "cell_type": "code",
      "metadata": {
        "id": "cic-CZdQZ_OE"
      },
      "source": [
        ""
      ],
      "execution_count": null,
      "outputs": []
    },
    {
      "cell_type": "markdown",
      "metadata": {
        "id": "Dndf451zZ_OE"
      },
      "source": [
        "**[12장: 299페이지]**"
      ]
    },
    {
      "cell_type": "code",
      "metadata": {
        "id": "X6baxmECZ_OE"
      },
      "source": [
        ""
      ],
      "execution_count": null,
      "outputs": []
    },
    {
      "cell_type": "markdown",
      "metadata": {
        "id": "T5Le-ooEZ_OE"
      },
      "source": [
        "**[12장: 299페이지]**"
      ]
    },
    {
      "cell_type": "code",
      "metadata": {
        "id": "LrMLjy8aZ_OE"
      },
      "source": [
        ""
      ],
      "execution_count": null,
      "outputs": []
    },
    {
      "cell_type": "markdown",
      "metadata": {
        "id": "KrMxRmS8Z_OE"
      },
      "source": [
        "**[12장: 300페이지]**"
      ]
    },
    {
      "cell_type": "code",
      "metadata": {
        "id": "JMl1F_NoZ_OF"
      },
      "source": [
        ""
      ],
      "execution_count": null,
      "outputs": []
    },
    {
      "cell_type": "markdown",
      "metadata": {
        "id": "ILg9QYc-Z_OF"
      },
      "source": [
        "**[12장: 300페이지]**"
      ]
    },
    {
      "cell_type": "code",
      "metadata": {
        "id": "mnYBeXVvZ_OF"
      },
      "source": [
        ""
      ],
      "execution_count": null,
      "outputs": []
    },
    {
      "cell_type": "markdown",
      "metadata": {
        "id": "LopPy1P_Z_OG"
      },
      "source": [
        "**[12장: 301페이지]**"
      ]
    },
    {
      "cell_type": "code",
      "metadata": {
        "id": "lFvbTNCRZ_OG"
      },
      "source": [
        ""
      ],
      "execution_count": null,
      "outputs": []
    },
    {
      "cell_type": "markdown",
      "metadata": {
        "id": "135HwMmZZ_OG"
      },
      "source": [
        "#### 라벨, 제목, 격자, 범례, 문자열 표시"
      ]
    },
    {
      "cell_type": "markdown",
      "metadata": {
        "id": "aRPDhYfaZ_OG"
      },
      "source": [
        "**[12장: 302페이지]**"
      ]
    },
    {
      "cell_type": "code",
      "metadata": {
        "id": "8JfIea6rZ_OH"
      },
      "source": [
        ""
      ],
      "execution_count": null,
      "outputs": []
    },
    {
      "cell_type": "markdown",
      "metadata": {
        "id": "gPPisDdEZ_OH"
      },
      "source": [
        "**[12장: 302페이지]**"
      ]
    },
    {
      "cell_type": "code",
      "metadata": {
        "id": "kj8oAXsAZ_OH"
      },
      "source": [
        ""
      ],
      "execution_count": null,
      "outputs": []
    },
    {
      "cell_type": "markdown",
      "metadata": {
        "id": "B_UQ_s67Z_OH"
      },
      "source": [
        "**[12장: 303페이지]**"
      ]
    },
    {
      "cell_type": "code",
      "metadata": {
        "id": "IrRwRiKQZ_OH"
      },
      "source": [
        ""
      ],
      "execution_count": null,
      "outputs": []
    },
    {
      "cell_type": "markdown",
      "metadata": {
        "id": "aaIQNBl6Z_OI"
      },
      "source": [
        "**[12장: 304페이지]**"
      ]
    },
    {
      "cell_type": "code",
      "metadata": {
        "id": "nWbgRdL1Z_OI"
      },
      "source": [
        ""
      ],
      "execution_count": null,
      "outputs": []
    },
    {
      "cell_type": "markdown",
      "metadata": {
        "id": "AXyN7xlHZ_OI"
      },
      "source": [
        "**[12장: 305페이지]**"
      ]
    },
    {
      "cell_type": "code",
      "metadata": {
        "id": "s14PizPHZ_OI"
      },
      "source": [
        ""
      ],
      "execution_count": null,
      "outputs": []
    },
    {
      "cell_type": "markdown",
      "metadata": {
        "id": "wvQ-MBVMZ_OI"
      },
      "source": [
        "**[12장: 306페이지]**"
      ]
    },
    {
      "cell_type": "code",
      "metadata": {
        "id": "9MZR50FnZ_OJ"
      },
      "source": [
        ""
      ],
      "execution_count": null,
      "outputs": []
    },
    {
      "cell_type": "markdown",
      "metadata": {
        "id": "k3OkZtQgZ_OJ"
      },
      "source": [
        "**[12장: 307페이지]**"
      ]
    },
    {
      "cell_type": "code",
      "metadata": {
        "id": "DXAESszVZ_OJ"
      },
      "source": [
        ""
      ],
      "execution_count": null,
      "outputs": []
    },
    {
      "cell_type": "markdown",
      "metadata": {
        "id": "V7oK904pZ_OJ"
      },
      "source": [
        "**[12장: 307페이지]**"
      ]
    },
    {
      "cell_type": "code",
      "metadata": {
        "id": "ig0bUng4Z_OJ"
      },
      "source": [
        ""
      ],
      "execution_count": null,
      "outputs": []
    },
    {
      "cell_type": "markdown",
      "metadata": {
        "id": "HnNgU_p-Z_OK"
      },
      "source": [
        "**[12장: 308페이지]**"
      ]
    },
    {
      "cell_type": "code",
      "metadata": {
        "id": "Yjl4M77bZ_OK"
      },
      "source": [
        ""
      ],
      "execution_count": null,
      "outputs": []
    },
    {
      "cell_type": "markdown",
      "metadata": {
        "id": "LKs6vHXYZ_OK"
      },
      "source": [
        "### 산점도"
      ]
    },
    {
      "cell_type": "markdown",
      "metadata": {
        "id": "MuJMvRPoZ_OK"
      },
      "source": [
        "**[12장: 309페이지]**"
      ]
    },
    {
      "cell_type": "code",
      "metadata": {
        "id": "Zz37OnkcZ_OL"
      },
      "source": [
        ""
      ],
      "execution_count": null,
      "outputs": []
    },
    {
      "cell_type": "markdown",
      "metadata": {
        "id": "SnqS-HI1Z_OL"
      },
      "source": [
        "**[12장: 310페이지]**"
      ]
    },
    {
      "cell_type": "code",
      "metadata": {
        "id": "vUteebiNZ_OL"
      },
      "source": [
        ""
      ],
      "execution_count": null,
      "outputs": []
    },
    {
      "cell_type": "markdown",
      "metadata": {
        "id": "F_jqJH-CZ_OL"
      },
      "source": [
        "**[12장: 310페이지]**"
      ]
    },
    {
      "cell_type": "code",
      "metadata": {
        "id": "pYUm9FirZ_OL"
      },
      "source": [
        ""
      ],
      "execution_count": null,
      "outputs": []
    },
    {
      "cell_type": "markdown",
      "metadata": {
        "id": "vsqTfmu-Z_OM"
      },
      "source": [
        "**[12장: 311 ~ 312페이지]**"
      ]
    },
    {
      "cell_type": "code",
      "metadata": {
        "id": "0mzeCXIuZ_OM"
      },
      "source": [
        "import numpy as np\n",
        "\n",
        "city = ['서울', '인천', '대전', '대구', '울산', '부산', '광주']\n",
        "\n",
        "# 위도(latitude)와 경도(longitude)\n",
        "lat  = [37.56, 37.45, 36.35, 35.87, 35.53, 35.18, 35.16] \n",
        "lon = [126.97, 126.70, 127.38, 128.60, 129.31, 129.07, 126.85]\n",
        "\n",
        "# 인구 밀도(명/km^2): 2017년 통계청 자료\n",
        "pop_den = [16154, 2751, 2839, 2790, 1099, 4454, 2995]\n",
        "\n",
        "size = np.array(pop_den) * 0.2 # 마커의 크기 지정 \n",
        "colors = ['r', 'g', 'b', 'c', 'm', 'k', 'y'] # 마커의 컬러 지정\n",
        "\n"
      ],
      "execution_count": null,
      "outputs": []
    },
    {
      "cell_type": "markdown",
      "metadata": {
        "id": "FFVUh8XXZ_OM"
      },
      "source": [
        "### 막대 그래프"
      ]
    },
    {
      "cell_type": "markdown",
      "metadata": {
        "id": "AgPnm2-4Z_OM"
      },
      "source": [
        "**[12장: 313페이지]**"
      ]
    },
    {
      "cell_type": "code",
      "metadata": {
        "id": "Q8GrFQeRZ_OM"
      },
      "source": [
        "member_IDs = ['m_01', 'm_02', 'm_03', 'm_04'] # 회원 ID\n",
        "before_ex = [27, 35, 40, 33] # 운동 시작 전\n",
        "after_ex = [30, 38, 42, 37] # 운동 한 달 후"
      ],
      "execution_count": null,
      "outputs": []
    },
    {
      "cell_type": "markdown",
      "metadata": {
        "id": "keYc1Xz5Z_ON"
      },
      "source": [
        "**[12장: 313페이지]**"
      ]
    },
    {
      "cell_type": "code",
      "metadata": {
        "id": "8hc73-yhZ_ON"
      },
      "source": [
        "import matplotlib.pyplot as plt\n",
        "import numpy as np\n",
        "\n"
      ],
      "execution_count": null,
      "outputs": []
    },
    {
      "cell_type": "markdown",
      "metadata": {
        "id": "VYhp0XQQZ_ON"
      },
      "source": [
        "**[12장: 314페이지]**"
      ]
    },
    {
      "cell_type": "code",
      "metadata": {
        "id": "PefIaDE3Z_ON"
      },
      "source": [
        ""
      ],
      "execution_count": null,
      "outputs": []
    },
    {
      "cell_type": "markdown",
      "metadata": {
        "id": "4STeBwpkZ_ON"
      },
      "source": [
        "**[12장: 315페이지]**"
      ]
    },
    {
      "cell_type": "code",
      "metadata": {
        "id": "T6LfR1eeZ_ON"
      },
      "source": [
        ""
      ],
      "execution_count": null,
      "outputs": []
    },
    {
      "cell_type": "markdown",
      "metadata": {
        "id": "NmtXl2ZBZ_OO"
      },
      "source": [
        "**[12장: 315페이지]**"
      ]
    },
    {
      "cell_type": "code",
      "metadata": {
        "id": "oViKAZaRZ_OO"
      },
      "source": [
        ""
      ],
      "execution_count": null,
      "outputs": []
    },
    {
      "cell_type": "markdown",
      "metadata": {
        "id": "TCfQHNFnZ_OO"
      },
      "source": [
        "**[12장: 316페이지]**"
      ]
    },
    {
      "cell_type": "code",
      "metadata": {
        "id": "ZFCn0mC-Z_OO"
      },
      "source": [
        ""
      ],
      "execution_count": null,
      "outputs": []
    },
    {
      "cell_type": "markdown",
      "metadata": {
        "id": "u2SlBHPCZ_OO"
      },
      "source": [
        "**[12장: 317페이지]**"
      ]
    },
    {
      "cell_type": "code",
      "metadata": {
        "id": "lCiA1zkhZ_OO"
      },
      "source": [
        ""
      ],
      "execution_count": null,
      "outputs": []
    },
    {
      "cell_type": "markdown",
      "metadata": {
        "id": "1Pp-Fy6EZ_OP"
      },
      "source": [
        "### 히스토그램"
      ]
    },
    {
      "cell_type": "markdown",
      "metadata": {
        "id": "WkRepBF0Z_OP"
      },
      "source": [
        "**[12장: 319페이지]**"
      ]
    },
    {
      "cell_type": "code",
      "metadata": {
        "id": "JtE4Z7dBZ_OP"
      },
      "source": [
        "import matplotlib.pyplot as plt\n",
        "\n",
        "math = [76, 82, 84, 83, 90, 86, 85, 92, 72, 71, 100, 87, 81, 76, 94, 78, 81, 60, 79, 69, 74, 87, 82, 68, 79]\n"
      ],
      "execution_count": null,
      "outputs": []
    },
    {
      "cell_type": "markdown",
      "metadata": {
        "id": "AB0sRwBzZ_OP"
      },
      "source": [
        "**[12장: 320페이지]**"
      ]
    },
    {
      "cell_type": "code",
      "metadata": {
        "id": "m-GDuEgtZ_OP"
      },
      "source": [
        ""
      ],
      "execution_count": null,
      "outputs": []
    },
    {
      "cell_type": "markdown",
      "metadata": {
        "id": "pW4Zcnc_Z_OP"
      },
      "source": [
        "**[12장: 321페이지]**"
      ]
    },
    {
      "cell_type": "code",
      "metadata": {
        "id": "JpulT-jnZ_OQ"
      },
      "source": [
        ""
      ],
      "execution_count": null,
      "outputs": []
    },
    {
      "cell_type": "markdown",
      "metadata": {
        "id": "aQvmZoAaZ_OQ"
      },
      "source": [
        "### 파이 그래프"
      ]
    },
    {
      "cell_type": "markdown",
      "metadata": {
        "id": "bgHdXsVBZ_OQ"
      },
      "source": [
        "**[12장: 322페이지]**"
      ]
    },
    {
      "cell_type": "code",
      "metadata": {
        "id": "6IcK98O2Z_OQ"
      },
      "source": [
        "fruit = ['사과', '바나나', '딸기', '오렌지', '포도']\n",
        "result = [7, 6, 3, 2, 2]"
      ],
      "execution_count": null,
      "outputs": []
    },
    {
      "cell_type": "markdown",
      "metadata": {
        "id": "wKsWopmPZ_OQ"
      },
      "source": [
        "**[12장: 322 ~ 323페이지]**"
      ]
    },
    {
      "cell_type": "code",
      "metadata": {
        "id": "dVMBK0sIZ_OQ"
      },
      "source": [
        ""
      ],
      "execution_count": null,
      "outputs": []
    },
    {
      "cell_type": "markdown",
      "metadata": {
        "id": "NtbQFNc5Z_OR"
      },
      "source": [
        "**[12장: 323페이지]**"
      ]
    },
    {
      "cell_type": "code",
      "metadata": {
        "id": "L3O_RigDZ_OR"
      },
      "source": [
        ""
      ],
      "execution_count": null,
      "outputs": []
    },
    {
      "cell_type": "markdown",
      "metadata": {
        "id": "A_HpqZ9yZ_OR"
      },
      "source": [
        "**[12장: 324페이지]**"
      ]
    },
    {
      "cell_type": "code",
      "metadata": {
        "id": "Lc7rurbcZ_OR"
      },
      "source": [
        ""
      ],
      "execution_count": null,
      "outputs": []
    },
    {
      "cell_type": "markdown",
      "metadata": {
        "id": "ibTDVz9YZ_OR"
      },
      "source": [
        "**[12장: 324페이지]**"
      ]
    },
    {
      "cell_type": "code",
      "metadata": {
        "id": "K8xMdJOMZ_OS"
      },
      "source": [
        ""
      ],
      "execution_count": null,
      "outputs": []
    },
    {
      "cell_type": "markdown",
      "metadata": {
        "id": "VCH6WJHKZ_OS"
      },
      "source": [
        "**[12장: 325페이지]**"
      ]
    },
    {
      "cell_type": "code",
      "metadata": {
        "id": "mRBRfL1XZ_OS"
      },
      "source": [
        "explode_value = (0.1, 0, 0, 0, 0)\n",
        "\n",
        "plt.figure(figsize=(5,5))\n",
        "plt.pie(result, labels= fruit, autopct='%.1f%%', startangle=90, counterclock = False, explode=explode_value, shadow=True)\n",
        "plt.show()"
      ],
      "execution_count": null,
      "outputs": []
    },
    {
      "cell_type": "markdown",
      "metadata": {
        "collapsed": true,
        "id": "iPl1vCwmZ_OS"
      },
      "source": [
        "### 그래프 저장하기"
      ]
    },
    {
      "cell_type": "markdown",
      "metadata": {
        "id": "WsbiW5GYZ_OS"
      },
      "source": [
        "**[12장: 326페이지]**"
      ]
    },
    {
      "cell_type": "code",
      "metadata": {
        "id": "9LeqT4haZ_OT"
      },
      "source": [
        "import matplotlib as mpl\n"
      ],
      "execution_count": null,
      "outputs": []
    },
    {
      "cell_type": "markdown",
      "metadata": {
        "id": "Z1BSyE-OZ_OT"
      },
      "source": [
        "**[12장: 326페이지]**"
      ]
    },
    {
      "cell_type": "code",
      "metadata": {
        "id": "dCTjqLO1Z_OT"
      },
      "source": [
        ""
      ],
      "execution_count": null,
      "outputs": []
    },
    {
      "cell_type": "markdown",
      "metadata": {
        "id": "Lxfx8KcyZ_OT"
      },
      "source": [
        "**[12장: 327페이지]**"
      ]
    },
    {
      "cell_type": "code",
      "metadata": {
        "scrolled": true,
        "id": "PIQgtOyvZ_OT"
      },
      "source": [
        "import numpy as np\n",
        "import matplotlib.pyplot as plt\n",
        "\n",
        "x = np.arange(0, 5, 1)\n",
        "y1 = x\n",
        "y2 = x + 1\n",
        "y3 = x + 2\n",
        "y4 = x + 3\n",
        "\n",
        "plt.plot(x, y1, x, y2, x, y3, x, y4)\n",
        "\n",
        "plt.grid(True)\n",
        "plt.xlabel('x')\n",
        "plt.ylabel('y')\n",
        "plt.title('Saving a figure')\n",
        "\n",
        "# 그래프를 이미지 파일로 저장. dpi는 100으로 설정\n"
      ],
      "execution_count": null,
      "outputs": []
    },
    {
      "cell_type": "markdown",
      "metadata": {
        "id": "pmRG_uRCZ_OT"
      },
      "source": [
        "**[12장: 329페이지]**"
      ]
    },
    {
      "cell_type": "code",
      "metadata": {
        "id": "CoogvUckZ_OU"
      },
      "source": [
        "import matplotlib.pyplot as plt\n",
        "\n",
        "fruit = ['사과', '바나나', '딸기', '오렌지', '포도']\n",
        "result = [7, 6, 3, 2, 2]\n",
        "explode_value = (0.1, 0, 0, 0, 0)\n",
        "\n",
        "plt.figure(figsize=(5,5)) # 그래프의 크기를 지정\n",
        "plt.pie(result, labels= fruit, autopct='%.1f%%', startangle=90, counterclock = False, explode=explode_value, shadow=True)\n",
        "\n",
        "# 그래프를 이미지 파일로 저장. dpi는 200으로 설정\n"
      ],
      "execution_count": null,
      "outputs": []
    },
    {
      "cell_type": "markdown",
      "metadata": {
        "id": "4Rxx1f-7Z_OU"
      },
      "source": [
        "## 12.2 pandas로 그래프 그리기"
      ]
    },
    {
      "cell_type": "markdown",
      "metadata": {
        "id": "Kukf-A2WZ_OU"
      },
      "source": [
        "### pandas의 그래프 구조"
      ]
    },
    {
      "cell_type": "markdown",
      "metadata": {
        "id": "AElQz31PZ_OV"
      },
      "source": [
        "### pandas의 선 그래프"
      ]
    },
    {
      "cell_type": "markdown",
      "metadata": {
        "id": "KYYtJswBZ_OV"
      },
      "source": [
        "**[12장: 331페이지]**"
      ]
    },
    {
      "cell_type": "code",
      "metadata": {
        "id": "RGsKRFOoZ_OV"
      },
      "source": [
        "import pandas as pd\n",
        "import matplotlib.pyplot as plt\n",
        "\n",
        "s1 = pd.Series([1,2,3,4,5,6,7,8,9,10])\n",
        "s1"
      ],
      "execution_count": null,
      "outputs": []
    },
    {
      "cell_type": "markdown",
      "metadata": {
        "id": "3MjWSX-8Z_OV"
      },
      "source": [
        "**[12장: 331페이지]**"
      ]
    },
    {
      "cell_type": "code",
      "metadata": {
        "id": "G_O4qlRQZ_OW"
      },
      "source": [
        ""
      ],
      "execution_count": null,
      "outputs": []
    },
    {
      "cell_type": "markdown",
      "metadata": {
        "id": "eophmaeGZ_OW"
      },
      "source": [
        "**[12장: 332페이지]**"
      ]
    },
    {
      "cell_type": "code",
      "metadata": {
        "id": "ghO4rO8JZ_OX"
      },
      "source": [
        "s2 = pd.Series([1,2,3,4,5,6,7,8,9,10], index = pd.date_range('2019-01-01', periods=10))\n",
        "s2"
      ],
      "execution_count": null,
      "outputs": []
    },
    {
      "cell_type": "markdown",
      "metadata": {
        "id": "w85PCYNSZ_OX"
      },
      "source": [
        "**[12장: 332페이지]**"
      ]
    },
    {
      "cell_type": "code",
      "metadata": {
        "id": "feIsn3kZZ_OX"
      },
      "source": [
        "s2.plot()\n",
        "plt.show()"
      ],
      "execution_count": null,
      "outputs": []
    },
    {
      "cell_type": "markdown",
      "metadata": {
        "id": "XQvtBP7bZ_OX"
      },
      "source": [
        "**[12장: 333페이지]**"
      ]
    },
    {
      "cell_type": "code",
      "metadata": {
        "id": "ay_91-NvZ_OY"
      },
      "source": [
        "s2.plot(grid=True)\n",
        "plt.show()"
      ],
      "execution_count": null,
      "outputs": []
    },
    {
      "cell_type": "markdown",
      "metadata": {
        "id": "c7KYAxCjZ_OY"
      },
      "source": [
        "**[12장: 333페이지]**"
      ]
    },
    {
      "cell_type": "code",
      "metadata": {
        "id": "pbec6iYfZ_OY"
      },
      "source": [
        ""
      ],
      "execution_count": null,
      "outputs": []
    },
    {
      "cell_type": "markdown",
      "metadata": {
        "id": "daZ5FWT2Z_OY"
      },
      "source": [
        "**[12장: 334페이지]**"
      ]
    },
    {
      "cell_type": "code",
      "metadata": {
        "id": "q-A6wi5nZ_OZ"
      },
      "source": [
        "import matplotlib\n",
        "matplotlib.rcParams['font.family'] = 'Malgun Gothic'# '맑은 고딕'으로 설정 \n",
        "matplotlib.rcParams['axes.unicode_minus'] = False\n",
        "\n",
        "df_rain.plot()\n",
        "plt.show()"
      ],
      "execution_count": null,
      "outputs": []
    },
    {
      "cell_type": "markdown",
      "metadata": {
        "id": "mEe4pHpGZ_OZ"
      },
      "source": [
        "**[12장: 334페이지]**"
      ]
    },
    {
      "cell_type": "code",
      "metadata": {
        "id": "ZYZTBNFfZ_OZ"
      },
      "source": [
        "rain_plot = df_rain.plot(grid = True, style = ['r--*', 'g-o', 'b:*', 'm-.p'])\n",
        "rain_plot.set_xlabel(\"연도\")\n",
        "rain_plot.set_ylabel(\"강수량\")\n",
        "rain_plot.set_title(\"연간 강수량\")\n",
        "plt.show()"
      ],
      "execution_count": null,
      "outputs": []
    },
    {
      "cell_type": "markdown",
      "metadata": {
        "id": "GHETF_hDZ_OZ"
      },
      "source": [
        "**[12장: 335페이지]**"
      ]
    },
    {
      "cell_type": "code",
      "metadata": {
        "id": "AKs4DzTEZ_Oa"
      },
      "source": [
        "year = [2006, 2008, 2010, 2012, 2014, 2016] # 연도\n",
        "area = [26.2, 27.8, 28.5, 31.7, 33.5, 33.2] # 1인당 주거면적\n"
      ],
      "execution_count": null,
      "outputs": []
    },
    {
      "cell_type": "markdown",
      "metadata": {
        "id": "U5l8U_xkZ_Oa"
      },
      "source": [
        "**[12장: 336페이지]**"
      ]
    },
    {
      "cell_type": "code",
      "metadata": {
        "id": "TcCCUDT4Z_Oa"
      },
      "source": [
        "df_area.plot(x='연도', y='주거면적', grid = True, title = '연도별 1인당 주거면적')\n",
        "plt.show()"
      ],
      "execution_count": null,
      "outputs": []
    },
    {
      "cell_type": "markdown",
      "metadata": {
        "id": "XWLAu4vFZ_Oa"
      },
      "source": [
        "### pandas의 산점도"
      ]
    },
    {
      "cell_type": "markdown",
      "metadata": {
        "id": "AYiVH7NKZ_Oa"
      },
      "source": [
        "**[12장: 336 ~ 337페이지]**"
      ]
    },
    {
      "cell_type": "code",
      "metadata": {
        "id": "UGFOznMcZ_Ob"
      },
      "source": [
        "import matplotlib.pyplot as plt\n",
        "import pandas as pd\n",
        "\n",
        "temperature = [25.2, 27.4, 22.9, 26.2, 29.5, 33.1, 30.4, 36.1, 34.4, 29.1]\n",
        "Ice_cream_sales = [236500, 357500, 203500, 365200, 446600, 574200, 453200, 675400, 598400, 463100]\n",
        "\n",
        "dict_data = {'기온':temperature, '아이스크림 판매량':Ice_cream_sales}\n",
        "df_ice_cream = pd.DataFrame(dict_data, columns=['기온', '아이스크림 판매량'])\n",
        "\n",
        "df_ice_cream"
      ],
      "execution_count": null,
      "outputs": []
    },
    {
      "cell_type": "markdown",
      "metadata": {
        "id": "jb_awGF9Z_Ob"
      },
      "source": [
        "**[12장: 337페이지]**"
      ]
    },
    {
      "cell_type": "code",
      "metadata": {
        "id": "s6dP4YnaZ_Ob"
      },
      "source": [
        "df_ice_cream.plot.scatter(x='기온', y='아이스크림 판매량', grid=True, title='최고 기온과 아이스크림 판매량')\n",
        "plt.show()"
      ],
      "execution_count": null,
      "outputs": []
    },
    {
      "cell_type": "markdown",
      "metadata": {
        "id": "sLUkyLqfZ_Ob"
      },
      "source": [
        "### pandas의 막대 그래프"
      ]
    },
    {
      "cell_type": "markdown",
      "metadata": {
        "id": "YNZWZOp3Z_Ob"
      },
      "source": [
        "**[12장: 338페이지]**"
      ]
    },
    {
      "cell_type": "code",
      "metadata": {
        "id": "W5ZIJgj2Z_Oc"
      },
      "source": [
        "import matplotlib.pyplot as plt\n",
        "import pandas as pd\n",
        "\n",
        "grade_num = [5, 14, 12, 3]\n",
        "students = ['A', 'B', 'C', 'D']\n",
        "\n",
        "df_grade = pd.DataFrame(grade_num, index=students, columns = ['Student'])\n",
        "df_grade"
      ],
      "execution_count": null,
      "outputs": []
    },
    {
      "cell_type": "markdown",
      "metadata": {
        "id": "qcvbrqYvZ_Oc"
      },
      "source": [
        "**[12장: 339페이지]**"
      ]
    },
    {
      "cell_type": "code",
      "metadata": {
        "id": "PwGajgvLZ_Oc"
      },
      "source": [
        "grade_bar = df_grade.plot.bar(grid = True)\n",
        "grade_bar.set_xlabel(\"학점\")\n",
        "grade_bar.set_ylabel(\"학생수\")\n",
        "grade_bar.set_title(\"학점별 학생 수 막대 그래프\")\n",
        "plt.show()"
      ],
      "execution_count": null,
      "outputs": []
    },
    {
      "cell_type": "markdown",
      "metadata": {
        "id": "SzL97cEvZ_Oc"
      },
      "source": [
        "### pandas의 히스토그램"
      ]
    },
    {
      "cell_type": "markdown",
      "metadata": {
        "id": "Wc0HikweZ_Oc"
      },
      "source": [
        "**[12장: 340페이지]**"
      ]
    },
    {
      "cell_type": "code",
      "metadata": {
        "id": "q5ZkYL3fZ_Oc"
      },
      "source": [
        "import matplotlib.pyplot as plt\n",
        "import pandas as pd\n",
        "\n",
        "math = [76,82,84,83,90,86,85,92,72,71,100,87,81,76,94,78,81,60,79,69,74,87,82,68,79]\n",
        "\n",
        "df_math = pd.DataFrame(math, columns = ['Student'])\n",
        "\n",
        "math_hist = df_math.plot.hist(bins=8, grid = True)\n",
        "math_hist.set_xlabel(\"시험 점수\")\n",
        "math_hist.set_ylabel(\"도수(frequency)\")\n",
        "math_hist.set_title(\"수학 시험의 히스토그램\")\n",
        "\n",
        "plt.show()"
      ],
      "execution_count": null,
      "outputs": []
    },
    {
      "cell_type": "markdown",
      "metadata": {
        "id": "OM6bEK8BZ_Od"
      },
      "source": [
        "### pandas의 파이 그래프"
      ]
    },
    {
      "cell_type": "markdown",
      "metadata": {
        "id": "jr2kIoh2Z_Od"
      },
      "source": [
        "**[12장: 341페이지]**"
      ]
    },
    {
      "cell_type": "code",
      "metadata": {
        "id": "zUjKKGwfZ_Od"
      },
      "source": [
        "import matplotlib.pyplot as plt\n",
        "import pandas as pd\n",
        "\n",
        "fruit = ['사과', '바나나', '딸기', '오렌지', '포도']\n",
        "result = [7, 6, 3, 2, 2]\n",
        "\n",
        "df_fruit = pd.Series(result, index = fruit, name = '선택한 학생수')\n",
        "df_fruit"
      ],
      "execution_count": null,
      "outputs": []
    },
    {
      "cell_type": "markdown",
      "metadata": {
        "id": "Sdjs36DCZ_Od"
      },
      "source": [
        "**[12장: 341페이지]**"
      ]
    },
    {
      "cell_type": "code",
      "metadata": {
        "id": "JjyRBtK8Z_Od"
      },
      "source": [
        "df_fruit.plot.pie()\n",
        "plt.show()"
      ],
      "execution_count": null,
      "outputs": []
    },
    {
      "cell_type": "markdown",
      "metadata": {
        "id": "Qyzd1lPzZ_Oe"
      },
      "source": [
        "**[12장: 342페이지]**"
      ]
    },
    {
      "cell_type": "code",
      "metadata": {
        "id": "NKeG13JJZ_Oe"
      },
      "source": [
        "explode_value = (0.1, 0, 0, 0, 0)\n",
        "fruit_pie = df_fruit.plot.pie(figsize=(5, 5), autopct='%.1f%%', startangle=90, \n",
        "    counterclock = False, explode=explode_value, shadow=True, table=True)\n",
        "fruit_pie.set_ylabel(\"\") # 불필요한 y축 라벨 제거\n",
        "fruit_pie.set_title(\"과일 선호도 조사 결과\")\n",
        "\n",
        "# 그래프를 이미지 파일로 저장. dpi는 200으로 설정\n",
        "plt.savefig('C:/myPyCode/figures/saveFigTest3.png', dpi = 200)\n",
        "plt.show()"
      ],
      "execution_count": null,
      "outputs": []
    },
    {
      "cell_type": "markdown",
      "metadata": {
        "id": "7kRSBn_vZ_Oe"
      },
      "source": [
        "## 12.3 정리"
      ]
    }
  ]
}