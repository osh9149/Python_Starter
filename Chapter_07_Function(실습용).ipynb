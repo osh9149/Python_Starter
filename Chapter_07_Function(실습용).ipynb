{
  "nbformat": 4,
  "nbformat_minor": 0,
  "metadata": {
    "kernelspec": {
      "display_name": "Python 3",
      "language": "python",
      "name": "python3"
    },
    "language_info": {
      "codemirror_mode": {
        "name": "ipython",
        "version": 3
      },
      "file_extension": ".py",
      "mimetype": "text/x-python",
      "name": "python",
      "nbconvert_exporter": "python",
      "pygments_lexer": "ipython3",
      "version": "3.6.4"
    },
    "latex_envs": {
      "LaTeX_envs_menu_present": true,
      "autoclose": false,
      "autocomplete": true,
      "bibliofile": "biblio.bib",
      "cite_by": "apalike",
      "current_citInitial": 1,
      "eqLabelWithNumbers": true,
      "eqNumInitial": 1,
      "hotkeys": {
        "equation": "Ctrl-E",
        "itemize": "Ctrl-I"
      },
      "labels_anchors": false,
      "latex_user_defs": false,
      "report_style_numbering": false,
      "user_envs_cfg": false
    },
    "toc": {
      "nav_menu": {},
      "number_sections": false,
      "sideBar": true,
      "skip_h1_title": false,
      "toc_cell": false,
      "toc_position": {
        "height": "582px",
        "left": "0px",
        "right": "1154px",
        "top": "111px",
        "width": "212px"
      },
      "toc_section_display": "block",
      "toc_window_display": false
    },
    "colab": {
      "name": "Chapter_07_Function(실습용).ipynb",
      "provenance": [],
      "collapsed_sections": [],
      "include_colab_link": true
    }
  },
  "cells": [
    {
      "cell_type": "markdown",
      "metadata": {
        "id": "view-in-github",
        "colab_type": "text"
      },
      "source": [
        "<a href=\"https://colab.research.google.com/github/osh9149/Python_Starter/blob/main/Chapter_07_Function(%EC%8B%A4%EC%8A%B5%EC%9A%A9).ipynb\" target=\"_parent\"><img src=\"https://colab.research.google.com/assets/colab-badge.svg\" alt=\"Open In Colab\"/></a>"
      ]
    },
    {
      "cell_type": "markdown",
      "metadata": {
        "id": "jfsUvebsYMq4"
      },
      "source": [
        "# 7장 함수"
      ]
    },
    {
      "cell_type": "markdown",
      "metadata": {
        "id": "AMQbn8qDYMrA"
      },
      "source": [
        "## 7.1 함수 정의와 호출"
      ]
    },
    {
      "cell_type": "markdown",
      "metadata": {
        "id": "z_HcA11FYMrA"
      },
      "source": [
        "### 함수의 기본 구조\n"
      ]
    },
    {
      "cell_type": "markdown",
      "metadata": {
        "id": "eYY9CJoNYMrB"
      },
      "source": [
        "### 인자도 반환 값도 없는 함수"
      ]
    },
    {
      "cell_type": "markdown",
      "metadata": {
        "id": "6nzTG4FUYMrB"
      },
      "source": [
        "**[7장: 117페이지]**"
      ]
    },
    {
      "cell_type": "code",
      "metadata": {
        "id": "_W7iQJQwYMrB"
      },
      "source": [
        ""
      ],
      "execution_count": null,
      "outputs": []
    },
    {
      "cell_type": "markdown",
      "metadata": {
        "id": "0z4z3pzyYMrC"
      },
      "source": [
        "**[7장: 118페이지]**"
      ]
    },
    {
      "cell_type": "code",
      "metadata": {
        "id": "5yexY_9SYMrC"
      },
      "source": [
        ""
      ],
      "execution_count": null,
      "outputs": []
    },
    {
      "cell_type": "markdown",
      "metadata": {
        "id": "AbL3xEP8YMrC"
      },
      "source": [
        "### 인자는 있으나 반환 값이 없는 함수"
      ]
    },
    {
      "cell_type": "markdown",
      "metadata": {
        "id": "AJU85IDoYMrD"
      },
      "source": [
        "**[7장: 118페이지]**"
      ]
    },
    {
      "cell_type": "code",
      "metadata": {
        "id": "nngMQS-qYMrD"
      },
      "source": [
        ""
      ],
      "execution_count": null,
      "outputs": []
    },
    {
      "cell_type": "markdown",
      "metadata": {
        "id": "Ty46hfj0YMrD"
      },
      "source": [
        "**[7장: 118페이지]**"
      ]
    },
    {
      "cell_type": "code",
      "metadata": {
        "id": "SeBdb54DYMrD"
      },
      "source": [
        ""
      ],
      "execution_count": null,
      "outputs": []
    },
    {
      "cell_type": "markdown",
      "metadata": {
        "id": "EASlFh41YMrE"
      },
      "source": [
        "**[7장: 118 ~ 119페이지]**"
      ]
    },
    {
      "cell_type": "code",
      "metadata": {
        "id": "sW1r7pr7YMrE"
      },
      "source": [
        ""
      ],
      "execution_count": null,
      "outputs": []
    },
    {
      "cell_type": "markdown",
      "metadata": {
        "id": "EW4NHkjXYMrE"
      },
      "source": [
        "**[7장: 119페이지]**"
      ]
    },
    {
      "cell_type": "code",
      "metadata": {
        "id": "BtJyT8TGYMrE"
      },
      "source": [
        ""
      ],
      "execution_count": null,
      "outputs": []
    },
    {
      "cell_type": "markdown",
      "metadata": {
        "id": "Jz_djQF4YMrE"
      },
      "source": [
        "**[7장: 119페이지]**"
      ]
    },
    {
      "cell_type": "code",
      "metadata": {
        "id": "ouK6q3EvYMrF"
      },
      "source": [
        ""
      ],
      "execution_count": null,
      "outputs": []
    },
    {
      "cell_type": "markdown",
      "metadata": {
        "id": "iFoPexDhYMrF"
      },
      "source": [
        "**[7장: 119페이지]**"
      ]
    },
    {
      "cell_type": "code",
      "metadata": {
        "id": "oGGvgI8AYMrF"
      },
      "source": [
        ""
      ],
      "execution_count": null,
      "outputs": []
    },
    {
      "cell_type": "markdown",
      "metadata": {
        "id": "z5nwdSxKYMrF"
      },
      "source": [
        "### 인자도 있고 반환 값도 있는 함수"
      ]
    },
    {
      "cell_type": "markdown",
      "metadata": {
        "id": "cWYcDDHBYMrF"
      },
      "source": [
        "**[7장: 120페이지]**"
      ]
    },
    {
      "cell_type": "code",
      "metadata": {
        "id": "Z48x4BK3YMrG"
      },
      "source": [
        ""
      ],
      "execution_count": null,
      "outputs": []
    },
    {
      "cell_type": "markdown",
      "metadata": {
        "id": "l7-efbgqYMrG"
      },
      "source": [
        "**[7장: 120페이지]**"
      ]
    },
    {
      "cell_type": "code",
      "metadata": {
        "id": "AeKa6roXYMrG"
      },
      "source": [
        ""
      ],
      "execution_count": null,
      "outputs": []
    },
    {
      "cell_type": "markdown",
      "metadata": {
        "id": "Mia6D8YqYMrG"
      },
      "source": [
        "**[7장: 120페이지]**"
      ]
    },
    {
      "cell_type": "code",
      "metadata": {
        "id": "BCf_l-LeYMrG"
      },
      "source": [
        ""
      ],
      "execution_count": null,
      "outputs": []
    },
    {
      "cell_type": "markdown",
      "metadata": {
        "id": "6pYFroj9YMrH"
      },
      "source": [
        "**[7장: 120페이지]**"
      ]
    },
    {
      "cell_type": "code",
      "metadata": {
        "id": "P-snicBMYMrH"
      },
      "source": [
        ""
      ],
      "execution_count": null,
      "outputs": []
    },
    {
      "cell_type": "markdown",
      "metadata": {
        "id": "KlJg_FFeYMrH"
      },
      "source": [
        "**[7장: 121페이지]**"
      ]
    },
    {
      "cell_type": "code",
      "metadata": {
        "id": "CEQg2WC5YMrI"
      },
      "source": [
        ""
      ],
      "execution_count": null,
      "outputs": []
    },
    {
      "cell_type": "markdown",
      "metadata": {
        "id": "tr-5Qw7CYMrI"
      },
      "source": [
        "## 7.2 변수의 유효 범위"
      ]
    },
    {
      "cell_type": "markdown",
      "metadata": {
        "id": "js5NA25qYMrI"
      },
      "source": [
        "**[7장: 122페이지]**"
      ]
    },
    {
      "cell_type": "code",
      "metadata": {
        "id": "zSU7TpqkYMrI"
      },
      "source": [
        ""
      ],
      "execution_count": null,
      "outputs": []
    },
    {
      "cell_type": "markdown",
      "metadata": {
        "id": "o7SJ_QWHYMrJ"
      },
      "source": [
        "**[7장: 122페이지]**"
      ]
    },
    {
      "cell_type": "code",
      "metadata": {
        "id": "T8_eowWRYMrJ"
      },
      "source": [
        ""
      ],
      "execution_count": null,
      "outputs": []
    },
    {
      "cell_type": "markdown",
      "metadata": {
        "id": "ccGvC8GEYMrJ"
      },
      "source": [
        "**[7장: 123페이지]**"
      ]
    },
    {
      "cell_type": "code",
      "metadata": {
        "id": "7-wncR20YMrJ"
      },
      "source": [
        ""
      ],
      "execution_count": null,
      "outputs": []
    },
    {
      "cell_type": "markdown",
      "metadata": {
        "id": "3604YafYYMrJ"
      },
      "source": [
        "## 7.3 람다(lambda) 함수"
      ]
    },
    {
      "cell_type": "markdown",
      "metadata": {
        "id": "w_1L9Aw9YMrJ"
      },
      "source": [
        "**[7장: 124페이지]**"
      ]
    },
    {
      "cell_type": "code",
      "metadata": {
        "id": "qudDNZ_mYMrK"
      },
      "source": [
        ""
      ],
      "execution_count": null,
      "outputs": []
    },
    {
      "cell_type": "markdown",
      "metadata": {
        "id": "A1Zg1eQpYMrK"
      },
      "source": [
        "**[7장: 124페이지]**"
      ]
    },
    {
      "cell_type": "code",
      "metadata": {
        "id": "rGX2ZSVnYMrK"
      },
      "source": [
        ""
      ],
      "execution_count": null,
      "outputs": []
    },
    {
      "cell_type": "markdown",
      "metadata": {
        "id": "9xVb0LQXYMrK"
      },
      "source": [
        "**[7장: 124페이지]**"
      ]
    },
    {
      "cell_type": "code",
      "metadata": {
        "id": "pN6nxXSpYMrK"
      },
      "source": [
        ""
      ],
      "execution_count": null,
      "outputs": []
    },
    {
      "cell_type": "markdown",
      "metadata": {
        "id": "eVMHVwgyYMrK"
      },
      "source": [
        "**[7장: 124페이지]**"
      ]
    },
    {
      "cell_type": "code",
      "metadata": {
        "id": "QG-DPpc7YMrL"
      },
      "source": [
        ""
      ],
      "execution_count": null,
      "outputs": []
    },
    {
      "cell_type": "markdown",
      "metadata": {
        "id": "hzCh0B6HYMrL"
      },
      "source": [
        "## 7.4 유용한 내장 함수"
      ]
    },
    {
      "cell_type": "markdown",
      "metadata": {
        "id": "c5ph7GDKYMrL"
      },
      "source": [
        "### 형 변환 함수"
      ]
    },
    {
      "cell_type": "markdown",
      "metadata": {
        "id": "rCayUycUYMrL"
      },
      "source": [
        "#### 정수형으로 변환"
      ]
    },
    {
      "cell_type": "markdown",
      "metadata": {
        "id": "H33-2JooYMrL"
      },
      "source": [
        "**[7장: 125페이지]**"
      ]
    },
    {
      "cell_type": "code",
      "metadata": {
        "id": "Se2hXyoAYMrL"
      },
      "source": [
        ""
      ],
      "execution_count": null,
      "outputs": []
    },
    {
      "cell_type": "markdown",
      "metadata": {
        "id": "x_baBgnJYMrM"
      },
      "source": [
        "**[7장: 125페이지]**"
      ]
    },
    {
      "cell_type": "code",
      "metadata": {
        "id": "SxplXb80YMrM"
      },
      "source": [
        ""
      ],
      "execution_count": null,
      "outputs": []
    },
    {
      "cell_type": "markdown",
      "metadata": {
        "id": "v71PwXDDYMrM"
      },
      "source": [
        "#### 실수형으로 변환"
      ]
    },
    {
      "cell_type": "markdown",
      "metadata": {
        "id": "ErM9j0dAYMrM"
      },
      "source": [
        "**[7장: 125페이지]**"
      ]
    },
    {
      "cell_type": "code",
      "metadata": {
        "id": "QpJAKu6aYMrM"
      },
      "source": [
        ""
      ],
      "execution_count": null,
      "outputs": []
    },
    {
      "cell_type": "markdown",
      "metadata": {
        "id": "c-98ry-gYMrM"
      },
      "source": [
        "**[7장: 126페이지]**"
      ]
    },
    {
      "cell_type": "code",
      "metadata": {
        "id": "9BgheNelYMrN"
      },
      "source": [
        ""
      ],
      "execution_count": null,
      "outputs": []
    },
    {
      "cell_type": "markdown",
      "metadata": {
        "id": "zBtakUvmYMrN"
      },
      "source": [
        "#### 문자형으로 변환"
      ]
    },
    {
      "cell_type": "markdown",
      "metadata": {
        "id": "APtgSXeZYMrN"
      },
      "source": [
        "**[7장: 126페이지]**"
      ]
    },
    {
      "cell_type": "code",
      "metadata": {
        "id": "fsMUsq4MYMrN"
      },
      "source": [
        ""
      ],
      "execution_count": null,
      "outputs": []
    },
    {
      "cell_type": "markdown",
      "metadata": {
        "id": "2_ESaTTgYMrN"
      },
      "source": [
        "**[7장: 126페이지]**"
      ]
    },
    {
      "cell_type": "code",
      "metadata": {
        "id": "MII-SOmoYMrN"
      },
      "source": [
        ""
      ],
      "execution_count": null,
      "outputs": []
    },
    {
      "cell_type": "markdown",
      "metadata": {
        "id": "HGI_dWGjYMrO"
      },
      "source": [
        "#### 리스트, 튜플, 세트형으로 변환"
      ]
    },
    {
      "cell_type": "markdown",
      "metadata": {
        "id": "uAL_nDycYMrO"
      },
      "source": [
        "**[7장: 127페이지]**"
      ]
    },
    {
      "cell_type": "code",
      "metadata": {
        "id": "FD7I1JUdYMrO"
      },
      "source": [
        ""
      ],
      "execution_count": null,
      "outputs": []
    },
    {
      "cell_type": "markdown",
      "metadata": {
        "id": "AMDJs8KBYMrO"
      },
      "source": [
        "**[7장: 127페이지]**"
      ]
    },
    {
      "cell_type": "code",
      "metadata": {
        "id": "c8eMwcdYYMrO"
      },
      "source": [
        ""
      ],
      "execution_count": null,
      "outputs": []
    },
    {
      "cell_type": "markdown",
      "metadata": {
        "id": "0YdT9GDdYMrO"
      },
      "source": [
        "**[7장: 127페이지]**"
      ]
    },
    {
      "cell_type": "code",
      "metadata": {
        "id": "WWKaxpDZYMrP"
      },
      "source": [
        ""
      ],
      "execution_count": null,
      "outputs": []
    },
    {
      "cell_type": "markdown",
      "metadata": {
        "id": "CAYAIxPMYMrP"
      },
      "source": [
        "**[7장: 127페이지]**"
      ]
    },
    {
      "cell_type": "code",
      "metadata": {
        "scrolled": true,
        "id": "bTR-VIwHYMrP"
      },
      "source": [
        ""
      ],
      "execution_count": null,
      "outputs": []
    },
    {
      "cell_type": "markdown",
      "metadata": {
        "id": "JxllWyj4YMrP"
      },
      "source": [
        "**[7장: 127페이지]**"
      ]
    },
    {
      "cell_type": "code",
      "metadata": {
        "id": "WmlRbrQrYMrP"
      },
      "source": [
        ""
      ],
      "execution_count": null,
      "outputs": []
    },
    {
      "cell_type": "markdown",
      "metadata": {
        "id": "m_2CLzmiYMrQ"
      },
      "source": [
        "### bool 함수"
      ]
    },
    {
      "cell_type": "markdown",
      "metadata": {
        "id": "KQqQGqdWYMrQ"
      },
      "source": [
        "#### 숫자를 인자로 bool 함수 호출"
      ]
    },
    {
      "cell_type": "markdown",
      "metadata": {
        "id": "M53VRWgUYMrQ"
      },
      "source": [
        "**[7장: 128페이지]**"
      ]
    },
    {
      "cell_type": "code",
      "metadata": {
        "id": "d83DAcoOYMrQ"
      },
      "source": [
        ""
      ],
      "execution_count": null,
      "outputs": []
    },
    {
      "cell_type": "markdown",
      "metadata": {
        "id": "oZUBxZaeYMrQ"
      },
      "source": [
        "**[7장: 128페이지]**"
      ]
    },
    {
      "cell_type": "code",
      "metadata": {
        "id": "KNMQFRXXYMrQ"
      },
      "source": [
        ""
      ],
      "execution_count": null,
      "outputs": []
    },
    {
      "cell_type": "code",
      "metadata": {
        "id": "2HBCBxzAYMrR"
      },
      "source": [
        ""
      ],
      "execution_count": null,
      "outputs": []
    },
    {
      "cell_type": "code",
      "metadata": {
        "id": "_aIiUTqaYMrR"
      },
      "source": [
        ""
      ],
      "execution_count": null,
      "outputs": []
    },
    {
      "cell_type": "code",
      "metadata": {
        "id": "MV4ZTrD6YMrR"
      },
      "source": [
        ""
      ],
      "execution_count": null,
      "outputs": []
    },
    {
      "cell_type": "markdown",
      "metadata": {
        "id": "tfeHH5jmYMrR"
      },
      "source": [
        "#### 문자열을 인자로 bool 함수 호출"
      ]
    },
    {
      "cell_type": "markdown",
      "metadata": {
        "id": "__VGzx5qYMrR"
      },
      "source": [
        "**[7장: 128 ~ 129페이지]**"
      ]
    },
    {
      "cell_type": "code",
      "metadata": {
        "id": "7k3zuxJmYMrS"
      },
      "source": [
        ""
      ],
      "execution_count": null,
      "outputs": []
    },
    {
      "cell_type": "code",
      "metadata": {
        "id": "5Vckm05lYMrS"
      },
      "source": [
        ""
      ],
      "execution_count": null,
      "outputs": []
    },
    {
      "cell_type": "code",
      "metadata": {
        "id": "jVdU3_wsYMrS"
      },
      "source": [
        ""
      ],
      "execution_count": null,
      "outputs": []
    },
    {
      "cell_type": "code",
      "metadata": {
        "id": "-aPbGK95YMrS"
      },
      "source": [
        ""
      ],
      "execution_count": null,
      "outputs": []
    },
    {
      "cell_type": "markdown",
      "metadata": {
        "id": "LSQX7_FoYMrS"
      },
      "source": [
        "#### 리스트, 튜플, 세트를 인자로 bool 함수 호출"
      ]
    },
    {
      "cell_type": "markdown",
      "metadata": {
        "id": "xTTO9FxMYMrS"
      },
      "source": [
        "**[7장: 129페이지]**"
      ]
    },
    {
      "cell_type": "code",
      "metadata": {
        "id": "_qsGR6IbYMrT"
      },
      "source": [
        ""
      ],
      "execution_count": null,
      "outputs": []
    },
    {
      "cell_type": "markdown",
      "metadata": {
        "id": "Um-1OnjcYMrT"
      },
      "source": [
        "**[7장: 129페이지]**"
      ]
    },
    {
      "cell_type": "code",
      "metadata": {
        "id": "_3ak1PrvYMrT"
      },
      "source": [
        ""
      ],
      "execution_count": null,
      "outputs": []
    },
    {
      "cell_type": "markdown",
      "metadata": {
        "id": "R_17hlt0YMrT"
      },
      "source": [
        "**[7장: 129 ~ 130페이지]**"
      ]
    },
    {
      "cell_type": "code",
      "metadata": {
        "id": "WvegMn0AYMrT"
      },
      "source": [
        ""
      ],
      "execution_count": null,
      "outputs": []
    },
    {
      "cell_type": "code",
      "metadata": {
        "id": "mrJ_sBDiYMrT"
      },
      "source": [
        ""
      ],
      "execution_count": null,
      "outputs": []
    },
    {
      "cell_type": "markdown",
      "metadata": {
        "id": "ERHG1FZfYMrU"
      },
      "source": [
        "**[7장: 130페이지]**"
      ]
    },
    {
      "cell_type": "code",
      "metadata": {
        "id": "p7-ILbMyYMrU"
      },
      "source": [
        ""
      ],
      "execution_count": null,
      "outputs": []
    },
    {
      "cell_type": "code",
      "metadata": {
        "id": "nsVMY2BiYMrU"
      },
      "source": [
        ""
      ],
      "execution_count": null,
      "outputs": []
    },
    {
      "cell_type": "markdown",
      "metadata": {
        "id": "1BTWC0uSYMrU"
      },
      "source": [
        "#### bool 함수의 활용"
      ]
    },
    {
      "cell_type": "markdown",
      "metadata": {
        "id": "p9Ur2gzTYMrU"
      },
      "source": [
        "**[7장: 130페이지]**"
      ]
    },
    {
      "cell_type": "code",
      "metadata": {
        "id": "y6hx4yp-YMrU"
      },
      "source": [
        "   "
      ],
      "execution_count": null,
      "outputs": []
    },
    {
      "cell_type": "markdown",
      "metadata": {
        "id": "WBAP9icvYMrV"
      },
      "source": [
        "**[7장: 130페이지]**"
      ]
    },
    {
      "cell_type": "code",
      "metadata": {
        "id": "X8pC1yhSYMrV"
      },
      "source": [
        ""
      ],
      "execution_count": null,
      "outputs": []
    },
    {
      "cell_type": "code",
      "metadata": {
        "id": "Qa47kcfrYMrV"
      },
      "source": [
        ""
      ],
      "execution_count": null,
      "outputs": []
    },
    {
      "cell_type": "markdown",
      "metadata": {
        "id": "rWesLsitYMrV"
      },
      "source": [
        "### 최솟값과 최댓값을 구하는 함수"
      ]
    },
    {
      "cell_type": "markdown",
      "metadata": {
        "id": "gYTRkJ0mYMrV"
      },
      "source": [
        "**[7장: 131페이지]**"
      ]
    },
    {
      "cell_type": "code",
      "metadata": {
        "id": "qKhaIVNCYMrV"
      },
      "source": [
        ""
      ],
      "execution_count": null,
      "outputs": []
    },
    {
      "cell_type": "markdown",
      "metadata": {
        "id": "t3wptGtYYMrW"
      },
      "source": [
        "**[7장: 131페이지]**"
      ]
    },
    {
      "cell_type": "code",
      "metadata": {
        "id": "uzVaddv1YMrX"
      },
      "source": [
        ""
      ],
      "execution_count": null,
      "outputs": []
    },
    {
      "cell_type": "markdown",
      "metadata": {
        "id": "9nM8KbeIYMrX"
      },
      "source": [
        "**[7장: 131페이지]**"
      ]
    },
    {
      "cell_type": "code",
      "metadata": {
        "id": "KzkOqgQjYMrY"
      },
      "source": [
        ""
      ],
      "execution_count": null,
      "outputs": []
    },
    {
      "cell_type": "code",
      "metadata": {
        "id": "FDcMfpU5YMrY"
      },
      "source": [
        ""
      ],
      "execution_count": null,
      "outputs": []
    },
    {
      "cell_type": "markdown",
      "metadata": {
        "id": "2AnbfgnlYMrY"
      },
      "source": [
        "### 절댓값과 전체 합을 구하는 함수"
      ]
    },
    {
      "cell_type": "markdown",
      "metadata": {
        "id": "4KRV-4crYMrZ"
      },
      "source": [
        "**[7장: 132페이지]**"
      ]
    },
    {
      "cell_type": "code",
      "metadata": {
        "id": "f83_p1lmYMrZ"
      },
      "source": [
        ""
      ],
      "execution_count": null,
      "outputs": []
    },
    {
      "cell_type": "code",
      "metadata": {
        "id": "c-UD37onYMrZ"
      },
      "source": [
        ""
      ],
      "execution_count": null,
      "outputs": []
    },
    {
      "cell_type": "markdown",
      "metadata": {
        "id": "6byyai8yYMrZ"
      },
      "source": [
        "**[7장: 132페이지]**"
      ]
    },
    {
      "cell_type": "code",
      "metadata": {
        "id": "TXcSFl-DYMrZ"
      },
      "source": [
        ""
      ],
      "execution_count": null,
      "outputs": []
    },
    {
      "cell_type": "markdown",
      "metadata": {
        "id": "O_Gp9UQbYMra"
      },
      "source": [
        "### 항목의 개수를 구하는 함수"
      ]
    },
    {
      "cell_type": "markdown",
      "metadata": {
        "id": "TepYYqdIYMra"
      },
      "source": [
        "**[7장: 132 ~ 133페이지]**"
      ]
    },
    {
      "cell_type": "code",
      "metadata": {
        "id": "uxVVAMa4YMra"
      },
      "source": [
        ""
      ],
      "execution_count": null,
      "outputs": []
    },
    {
      "cell_type": "code",
      "metadata": {
        "id": "mLLA1lNgYMra"
      },
      "source": [
        ""
      ],
      "execution_count": null,
      "outputs": []
    },
    {
      "cell_type": "code",
      "metadata": {
        "id": "0J5ZZEUmYMra"
      },
      "source": [
        ""
      ],
      "execution_count": null,
      "outputs": []
    },
    {
      "cell_type": "code",
      "metadata": {
        "id": "H3E26wVuYMra"
      },
      "source": [
        ""
      ],
      "execution_count": null,
      "outputs": []
    },
    {
      "cell_type": "code",
      "metadata": {
        "id": "Ep-WA8Z1YMrb"
      },
      "source": [
        ""
      ],
      "execution_count": null,
      "outputs": []
    },
    {
      "cell_type": "markdown",
      "metadata": {
        "id": "ya_1zkGLYMrb"
      },
      "source": [
        "### 내장 함수의 활용"
      ]
    },
    {
      "cell_type": "markdown",
      "metadata": {
        "id": "WPeP8S6lYMrb"
      },
      "source": [
        "**[7장: 133페이지]**"
      ]
    },
    {
      "cell_type": "code",
      "metadata": {
        "id": "xH5Nu-9NYMrb"
      },
      "source": [
        ""
      ],
      "execution_count": null,
      "outputs": []
    },
    {
      "cell_type": "markdown",
      "metadata": {
        "id": "jrsLKmacYMrb"
      },
      "source": [
        "**[7장: 134페이지]**"
      ]
    },
    {
      "cell_type": "code",
      "metadata": {
        "id": "AKev43BsYMrb"
      },
      "source": [
        ""
      ],
      "execution_count": null,
      "outputs": []
    },
    {
      "cell_type": "markdown",
      "metadata": {
        "id": "Pln9N5J2YMrc"
      },
      "source": [
        "**[7장: 134페이지]**"
      ]
    },
    {
      "cell_type": "code",
      "metadata": {
        "id": "xcCoRp45YMrc"
      },
      "source": [
        ""
      ],
      "execution_count": null,
      "outputs": []
    },
    {
      "cell_type": "markdown",
      "metadata": {
        "id": "SwIsCExvYMrc"
      },
      "source": [
        "# 7.5 정리"
      ]
    }
  ]
}