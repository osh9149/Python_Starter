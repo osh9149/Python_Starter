{
  "nbformat": 4,
  "nbformat_minor": 0,
  "metadata": {
    "anaconda-cloud": {},
    "kernelspec": {
      "display_name": "Python 3",
      "language": "python",
      "name": "python3"
    },
    "language_info": {
      "codemirror_mode": {
        "name": "ipython",
        "version": 3
      },
      "file_extension": ".py",
      "mimetype": "text/x-python",
      "name": "python",
      "nbconvert_exporter": "python",
      "pygments_lexer": "ipython3",
      "version": "3.6.4"
    },
    "latex_envs": {
      "LaTeX_envs_menu_present": true,
      "autoclose": false,
      "autocomplete": true,
      "bibliofile": "biblio.bib",
      "cite_by": "apalike",
      "current_citInitial": 1,
      "eqLabelWithNumbers": true,
      "eqNumInitial": 1,
      "hotkeys": {
        "equation": "Ctrl-E",
        "itemize": "Ctrl-I"
      },
      "labels_anchors": false,
      "latex_user_defs": false,
      "report_style_numbering": false,
      "user_envs_cfg": false
    },
    "nav_menu": {},
    "toc": {
      "nav_menu": {
        "height": "161px",
        "width": "252px"
      },
      "number_sections": false,
      "sideBar": true,
      "skip_h1_title": false,
      "toc_cell": false,
      "toc_position": {
        "height": "582px",
        "left": "0px",
        "right": "1154px",
        "top": "111px",
        "width": "212px"
      },
      "toc_section_display": "block",
      "toc_window_display": false
    },
    "toc_position": {
      "left": "1134.41px",
      "right": "20px",
      "top": "53px",
      "width": "210px"
    },
    "colab": {
      "name": "Chapter_03_Calculator(실습용).ipynb",
      "provenance": [],
      "collapsed_sections": [],
      "include_colab_link": true
    }
  },
  "cells": [
    {
      "cell_type": "markdown",
      "metadata": {
        "id": "view-in-github",
        "colab_type": "text"
      },
      "source": [
        "<a href=\"https://colab.research.google.com/github/osh9149/Python_Starter/blob/main/Chapter_03_Calculator(%EC%8B%A4%EC%8A%B5%EC%9A%A9).ipynb\" target=\"_parent\"><img src=\"https://colab.research.google.com/assets/colab-badge.svg\" alt=\"Open In Colab\"/></a>"
      ]
    },
    {
      "cell_type": "markdown",
      "metadata": {
        "id": "mi1-Uav1T1G5"
      },
      "source": [
        "# 3장 파이썬을 계산기처럼 이용하기"
      ]
    },
    {
      "cell_type": "markdown",
      "metadata": {
        "id": "-AjbpDqQT1HC"
      },
      "source": [
        "## 3.1 간단한 사칙 연산"
      ]
    },
    {
      "cell_type": "markdown",
      "metadata": {
        "id": "8AWbSHBeT1HC"
      },
      "source": [
        "**[3장: 30페이지]**"
      ]
    },
    {
      "cell_type": "code",
      "metadata": {
        "id": "2p16JRPZT1HD"
      },
      "source": [
        ""
      ],
      "execution_count": null,
      "outputs": []
    },
    {
      "cell_type": "code",
      "metadata": {
        "id": "6UD-CLwWT1HE"
      },
      "source": [
        ""
      ],
      "execution_count": null,
      "outputs": []
    },
    {
      "cell_type": "markdown",
      "metadata": {
        "id": "X3xUpAKeT1HE"
      },
      "source": [
        "**[3장: 30페이지]**"
      ]
    },
    {
      "cell_type": "code",
      "metadata": {
        "id": "4PKky7CXT1HE"
      },
      "source": [
        ""
      ],
      "execution_count": null,
      "outputs": []
    },
    {
      "cell_type": "code",
      "metadata": {
        "id": "1wOr1wbGT1HF"
      },
      "source": [
        ""
      ],
      "execution_count": null,
      "outputs": []
    },
    {
      "cell_type": "markdown",
      "metadata": {
        "id": "ztvIKGxOT1HF"
      },
      "source": [
        "**[3장: 31페이지]**"
      ]
    },
    {
      "cell_type": "code",
      "metadata": {
        "id": "5PmI4AFGT1HF"
      },
      "source": [
        ""
      ],
      "execution_count": null,
      "outputs": []
    },
    {
      "cell_type": "code",
      "metadata": {
        "id": "SFjctfruT1HG"
      },
      "source": [
        ""
      ],
      "execution_count": null,
      "outputs": []
    },
    {
      "cell_type": "code",
      "metadata": {
        "id": "H5yFIG-yT1HG"
      },
      "source": [
        ""
      ],
      "execution_count": null,
      "outputs": []
    },
    {
      "cell_type": "code",
      "metadata": {
        "id": "hvwmtuWaT1HG"
      },
      "source": [
        ""
      ],
      "execution_count": null,
      "outputs": []
    },
    {
      "cell_type": "markdown",
      "metadata": {
        "id": "BZ13dKe0T1HH"
      },
      "source": [
        "**[3장: 31페이지]**"
      ]
    },
    {
      "cell_type": "code",
      "metadata": {
        "id": "bkLhhzjzT1HH"
      },
      "source": [
        ""
      ],
      "execution_count": null,
      "outputs": []
    },
    {
      "cell_type": "code",
      "metadata": {
        "id": "raE28okmT1HH"
      },
      "source": [
        ""
      ],
      "execution_count": null,
      "outputs": []
    },
    {
      "cell_type": "code",
      "metadata": {
        "id": "rP7lBDaQT1HI"
      },
      "source": [
        ""
      ],
      "execution_count": null,
      "outputs": []
    },
    {
      "cell_type": "code",
      "metadata": {
        "id": "RPwIcHANT1HI"
      },
      "source": [
        ""
      ],
      "execution_count": null,
      "outputs": []
    },
    {
      "cell_type": "markdown",
      "metadata": {
        "id": "F2Ppdf7dT1HI"
      },
      "source": [
        "**[3장: 32페이지]**"
      ]
    },
    {
      "cell_type": "code",
      "metadata": {
        "id": "9SfD2ELqT1HI"
      },
      "source": [
        ""
      ],
      "execution_count": null,
      "outputs": []
    },
    {
      "cell_type": "code",
      "metadata": {
        "id": "OZiXwqDBT1HI"
      },
      "source": [
        ""
      ],
      "execution_count": null,
      "outputs": []
    },
    {
      "cell_type": "markdown",
      "metadata": {
        "id": "47756qQ6T1HJ"
      },
      "source": [
        "## 3.2 거듭 제곱과 나머지"
      ]
    },
    {
      "cell_type": "markdown",
      "metadata": {
        "id": "mz0YuK1kT1HJ"
      },
      "source": [
        "**[3장: 33페이지]**"
      ]
    },
    {
      "cell_type": "code",
      "metadata": {
        "id": "Nv5oGfYrT1HJ",
        "colab": {
          "base_uri": "https://localhost:8080/"
        },
        "outputId": "cd2207c4-a1b7-438d-fbaf-e1116b3a4c18"
      },
      "source": [
        ""
      ],
      "execution_count": null,
      "outputs": [
        {
          "output_type": "execute_result",
          "data": {
            "text/plain": [
              "32"
            ]
          },
          "metadata": {
            "tags": []
          },
          "execution_count": 1
        }
      ]
    },
    {
      "cell_type": "markdown",
      "metadata": {
        "id": "311V1UOkT1HJ"
      },
      "source": [
        "**[3장: 33페이지]**"
      ]
    },
    {
      "cell_type": "code",
      "metadata": {
        "id": "rVTGNYmqT1HK",
        "colab": {
          "base_uri": "https://localhost:8080/"
        },
        "outputId": "ecb99ce0-2a6c-45b1-9752-6b14e2736e09"
      },
      "source": [
        ""
      ],
      "execution_count": null,
      "outputs": [
        {
          "output_type": "execute_result",
          "data": {
            "text/plain": [
              "32"
            ]
          },
          "metadata": {
            "tags": []
          },
          "execution_count": 2
        }
      ]
    },
    {
      "cell_type": "markdown",
      "metadata": {
        "id": "ERuNdj84T1HK"
      },
      "source": [
        "**[3장: 33페이지]**"
      ]
    },
    {
      "cell_type": "code",
      "metadata": {
        "id": "9Yt_ElabT1HK",
        "colab": {
          "base_uri": "https://localhost:8080/"
        },
        "outputId": "288080b4-5bae-42ee-bd39-9844fe0b1fd6"
      },
      "source": [
        ""
      ],
      "execution_count": null,
      "outputs": [
        {
          "output_type": "execute_result",
          "data": {
            "text/plain": [
              "2.25"
            ]
          },
          "metadata": {
            "tags": []
          },
          "execution_count": 3
        }
      ]
    },
    {
      "cell_type": "markdown",
      "metadata": {
        "id": "_ajzEdUQT1HK"
      },
      "source": [
        "**[3장: 33페이지]**"
      ]
    },
    {
      "cell_type": "code",
      "metadata": {
        "id": "I1WpdR96T1HK",
        "colab": {
          "base_uri": "https://localhost:8080/"
        },
        "outputId": "d186254a-22e3-4ee1-80cd-e7a664cee2e7"
      },
      "source": [
        ""
      ],
      "execution_count": null,
      "outputs": [
        {
          "output_type": "execute_result",
          "data": {
            "text/plain": [
              "1.4142135623730951"
            ]
          },
          "metadata": {
            "tags": []
          },
          "execution_count": 4
        }
      ]
    },
    {
      "cell_type": "markdown",
      "metadata": {
        "id": "TTok9L7TT1HL"
      },
      "source": [
        "**[3장: 33페이지]**"
      ]
    },
    {
      "cell_type": "code",
      "metadata": {
        "id": "k2p7jHFHT1HL",
        "colab": {
          "base_uri": "https://localhost:8080/"
        },
        "outputId": "ec9aad64-f924-45e3-933d-6407c151b8a6"
      },
      "source": [
        ""
      ],
      "execution_count": null,
      "outputs": [
        {
          "output_type": "execute_result",
          "data": {
            "text/plain": [
              "3"
            ]
          },
          "metadata": {
            "tags": []
          },
          "execution_count": 5
        }
      ]
    },
    {
      "cell_type": "markdown",
      "metadata": {
        "id": "VslLnmYOT1HL"
      },
      "source": [
        "**[3장: 34페이지]**"
      ]
    },
    {
      "cell_type": "code",
      "metadata": {
        "id": "9lUymTjDT1HL",
        "colab": {
          "base_uri": "https://localhost:8080/"
        },
        "outputId": "79607da3-0679-41af-9023-7143f955e237"
      },
      "source": [
        ""
      ],
      "execution_count": null,
      "outputs": [
        {
          "output_type": "execute_result",
          "data": {
            "text/plain": [
              "2"
            ]
          },
          "metadata": {
            "tags": []
          },
          "execution_count": 6
        }
      ]
    },
    {
      "cell_type": "markdown",
      "metadata": {
        "id": "bzBUOLxNT1HL"
      },
      "source": [
        "## 3.3 과학적 표기법"
      ]
    },
    {
      "cell_type": "markdown",
      "metadata": {
        "id": "TgjkobAzT1HM"
      },
      "source": [
        "**[3장: 34페이지]**"
      ]
    },
    {
      "cell_type": "code",
      "metadata": {
        "id": "Qe5saDMST1HM"
      },
      "source": [
        ""
      ],
      "execution_count": null,
      "outputs": []
    },
    {
      "cell_type": "markdown",
      "metadata": {
        "id": "VKiP68bcT1HM"
      },
      "source": [
        "**[3장: 35페이지]**"
      ]
    },
    {
      "cell_type": "code",
      "metadata": {
        "id": "DbCR8fE2T1HM"
      },
      "source": [
        ""
      ],
      "execution_count": null,
      "outputs": []
    },
    {
      "cell_type": "markdown",
      "metadata": {
        "id": "kgCFSJ0UT1HM"
      },
      "source": [
        "**[3장: 35페이지]**"
      ]
    },
    {
      "cell_type": "code",
      "metadata": {
        "id": "EnlDBZO7T1HM"
      },
      "source": [
        ""
      ],
      "execution_count": null,
      "outputs": []
    },
    {
      "cell_type": "code",
      "metadata": {
        "id": "0KBeS1gXT1HN"
      },
      "source": [
        ""
      ],
      "execution_count": null,
      "outputs": []
    },
    {
      "cell_type": "code",
      "metadata": {
        "id": "wuDePD4yT1HN"
      },
      "source": [
        ""
      ],
      "execution_count": null,
      "outputs": []
    },
    {
      "cell_type": "code",
      "metadata": {
        "id": "wDu4yTYmT1HN"
      },
      "source": [
        ""
      ],
      "execution_count": null,
      "outputs": []
    },
    {
      "cell_type": "markdown",
      "metadata": {
        "id": "aOrXHOn7T1HN"
      },
      "source": [
        "## 3.4 진수 표현과 변환"
      ]
    },
    {
      "cell_type": "markdown",
      "metadata": {
        "id": "QnqWFPXkT1HN"
      },
      "source": [
        "**[3장: 36페이지]**"
      ]
    },
    {
      "cell_type": "code",
      "metadata": {
        "id": "cBx48jRdT1HN"
      },
      "source": [
        ""
      ],
      "execution_count": null,
      "outputs": []
    },
    {
      "cell_type": "code",
      "metadata": {
        "id": "ocdU-9K9T1HO"
      },
      "source": [
        ""
      ],
      "execution_count": null,
      "outputs": []
    },
    {
      "cell_type": "code",
      "metadata": {
        "id": "qqsGclH1T1HO"
      },
      "source": [
        ""
      ],
      "execution_count": null,
      "outputs": []
    },
    {
      "cell_type": "code",
      "metadata": {
        "id": "D2gMdPGXT1HO"
      },
      "source": [
        ""
      ],
      "execution_count": null,
      "outputs": []
    },
    {
      "cell_type": "markdown",
      "metadata": {
        "id": "I_jnRp-qT1HO"
      },
      "source": [
        "**[3장: 36 ~ 37페이지]**"
      ]
    },
    {
      "cell_type": "code",
      "metadata": {
        "id": "3CJXN2pkT1HO"
      },
      "source": [
        ""
      ],
      "execution_count": null,
      "outputs": []
    },
    {
      "cell_type": "code",
      "metadata": {
        "id": "G6u2PI0dT1HO"
      },
      "source": [
        ""
      ],
      "execution_count": null,
      "outputs": []
    },
    {
      "cell_type": "code",
      "metadata": {
        "id": "x6KySMcHT1HP"
      },
      "source": [
        ""
      ],
      "execution_count": null,
      "outputs": []
    },
    {
      "cell_type": "markdown",
      "metadata": {
        "id": "Yft5DvOBT1HP"
      },
      "source": [
        "**[3장: 37페이지]**"
      ]
    },
    {
      "cell_type": "code",
      "metadata": {
        "id": "dowtGLy5T1HP"
      },
      "source": [
        ""
      ],
      "execution_count": null,
      "outputs": []
    },
    {
      "cell_type": "code",
      "metadata": {
        "id": "oyPRxNoET1HP"
      },
      "source": [
        ""
      ],
      "execution_count": null,
      "outputs": []
    },
    {
      "cell_type": "code",
      "metadata": {
        "id": "KuPmVS23T1HP"
      },
      "source": [
        ""
      ],
      "execution_count": null,
      "outputs": []
    },
    {
      "cell_type": "code",
      "metadata": {
        "id": "ZlsfGpmzT1HP"
      },
      "source": [
        ""
      ],
      "execution_count": null,
      "outputs": []
    },
    {
      "cell_type": "markdown",
      "metadata": {
        "id": "d4u06SIOT1HQ"
      },
      "source": [
        "## 3.5 논리 연산 및 비교 연산"
      ]
    },
    {
      "cell_type": "markdown",
      "metadata": {
        "id": "ksRv5ZgqT1HQ"
      },
      "source": [
        "**[3장: 38페이지]**"
      ]
    },
    {
      "cell_type": "code",
      "metadata": {
        "id": "eDMZMziGT1HQ"
      },
      "source": [
        ""
      ],
      "execution_count": null,
      "outputs": []
    },
    {
      "cell_type": "code",
      "metadata": {
        "id": "D-dyouQ9T1HQ"
      },
      "source": [
        ""
      ],
      "execution_count": null,
      "outputs": []
    },
    {
      "cell_type": "markdown",
      "metadata": {
        "id": "lPCrRaFJT1HQ"
      },
      "source": [
        "**[3장: 38페이지]**"
      ]
    },
    {
      "cell_type": "code",
      "metadata": {
        "id": "qgUCnnyZT1HQ"
      },
      "source": [
        ""
      ],
      "execution_count": null,
      "outputs": []
    },
    {
      "cell_type": "markdown",
      "metadata": {
        "id": "SHc_xYYkT1HQ"
      },
      "source": [
        "**[3장: 39페이지]**"
      ]
    },
    {
      "cell_type": "code",
      "metadata": {
        "id": "XewT92-gT1HR"
      },
      "source": [
        ""
      ],
      "execution_count": null,
      "outputs": []
    },
    {
      "cell_type": "markdown",
      "metadata": {
        "id": "rSNe8g1UT1HR"
      },
      "source": [
        "**[3장: 40페이지]**"
      ]
    },
    {
      "cell_type": "code",
      "metadata": {
        "scrolled": true,
        "id": "SZwyu44ZT1HR"
      },
      "source": [
        ""
      ],
      "execution_count": null,
      "outputs": []
    },
    {
      "cell_type": "markdown",
      "metadata": {
        "id": "QjN_jRuYT1HR"
      },
      "source": [
        "**[3장: 40페이지]**"
      ]
    },
    {
      "cell_type": "code",
      "metadata": {
        "id": "9pgrgAApT1HS"
      },
      "source": [
        ""
      ],
      "execution_count": null,
      "outputs": []
    },
    {
      "cell_type": "markdown",
      "metadata": {
        "id": "BjbJMzoUT1HS"
      },
      "source": [
        "**[3장: 41페이지]**"
      ]
    },
    {
      "cell_type": "code",
      "metadata": {
        "id": "8iBIHseRT1HS"
      },
      "source": [
        ""
      ],
      "execution_count": null,
      "outputs": []
    },
    {
      "cell_type": "markdown",
      "metadata": {
        "id": "aRWmku51T1HS"
      },
      "source": [
        "# 3.6 정리"
      ]
    }
  ]
}