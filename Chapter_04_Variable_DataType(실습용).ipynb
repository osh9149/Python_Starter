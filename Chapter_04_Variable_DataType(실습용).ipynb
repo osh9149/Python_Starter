{
  "nbformat": 4,
  "nbformat_minor": 0,
  "metadata": {
    "anaconda-cloud": {},
    "kernelspec": {
      "display_name": "Python 3",
      "language": "python",
      "name": "python3"
    },
    "language_info": {
      "codemirror_mode": {
        "name": "ipython",
        "version": 3
      },
      "file_extension": ".py",
      "mimetype": "text/x-python",
      "name": "python",
      "nbconvert_exporter": "python",
      "pygments_lexer": "ipython3",
      "version": "3.6.4"
    },
    "latex_envs": {
      "LaTeX_envs_menu_present": true,
      "autoclose": false,
      "autocomplete": true,
      "bibliofile": "biblio.bib",
      "cite_by": "apalike",
      "current_citInitial": 1,
      "eqLabelWithNumbers": true,
      "eqNumInitial": 1,
      "hotkeys": {
        "equation": "Ctrl-E",
        "itemize": "Ctrl-I"
      },
      "labels_anchors": false,
      "latex_user_defs": false,
      "report_style_numbering": false,
      "user_envs_cfg": false
    },
    "nav_menu": {},
    "toc": {
      "nav_menu": {
        "height": "161px",
        "width": "252px"
      },
      "number_sections": false,
      "sideBar": true,
      "skip_h1_title": false,
      "toc_cell": false,
      "toc_position": {
        "height": "582px",
        "left": "0px",
        "right": "1154px",
        "top": "111px",
        "width": "212px"
      },
      "toc_section_display": "block",
      "toc_window_display": false
    },
    "colab": {
      "name": "Chapter_04_Variable_DataType(실습용).ipynb",
      "provenance": [],
      "collapsed_sections": [],
      "include_colab_link": true
    }
  },
  "cells": [
    {
      "cell_type": "markdown",
      "metadata": {
        "id": "view-in-github",
        "colab_type": "text"
      },
      "source": [
        "<a href=\"https://colab.research.google.com/github/osh9149/Python_Starter/blob/main/Chapter_04_Variable_DataType(%EC%8B%A4%EC%8A%B5%EC%9A%A9).ipynb\" target=\"_parent\"><img src=\"https://colab.research.google.com/assets/colab-badge.svg\" alt=\"Open In Colab\"/></a>"
      ]
    },
    {
      "cell_type": "markdown",
      "metadata": {
        "id": "0ru63yDcV-mq"
      },
      "source": [
        "# 4장 변수와 자료형"
      ]
    },
    {
      "cell_type": "markdown",
      "metadata": {
        "id": "52wcBMPsV-mz"
      },
      "source": [
        "## 4.1 변수"
      ]
    },
    {
      "cell_type": "markdown",
      "metadata": {
        "id": "N--7BG2EV-m0"
      },
      "source": [
        "**[4장: 42페이지]**"
      ]
    },
    {
      "cell_type": "code",
      "metadata": {
        "id": "fk-oe--mV-m0"
      },
      "source": [
        ""
      ],
      "execution_count": null,
      "outputs": []
    },
    {
      "cell_type": "code",
      "metadata": {
        "id": "a9e3GDLqV-m1"
      },
      "source": [
        ""
      ],
      "execution_count": null,
      "outputs": []
    },
    {
      "cell_type": "code",
      "metadata": {
        "id": "INuYobYdV-m2"
      },
      "source": [
        ""
      ],
      "execution_count": null,
      "outputs": []
    },
    {
      "cell_type": "markdown",
      "metadata": {
        "id": "b5SwLIFQV-m2"
      },
      "source": [
        "**[4장: 43페이지]**"
      ]
    },
    {
      "cell_type": "code",
      "metadata": {
        "id": "-CQ2E_78V-m2"
      },
      "source": [
        ""
      ],
      "execution_count": null,
      "outputs": []
    },
    {
      "cell_type": "markdown",
      "metadata": {
        "id": "-vJ0MIlTV-m3"
      },
      "source": [
        "**[4장: 44페이지]**"
      ]
    },
    {
      "cell_type": "code",
      "metadata": {
        "id": "HbQj60dUV-m3"
      },
      "source": [
        ""
      ],
      "execution_count": null,
      "outputs": []
    },
    {
      "cell_type": "markdown",
      "metadata": {
        "id": "EdiIysBaV-m4"
      },
      "source": [
        "**[4장: 44페이지]**"
      ]
    },
    {
      "cell_type": "code",
      "metadata": {
        "id": "oISVJYtGV-m4"
      },
      "source": [
        ""
      ],
      "execution_count": null,
      "outputs": []
    },
    {
      "cell_type": "markdown",
      "metadata": {
        "id": "fupz16kmV-m4"
      },
      "source": [
        "## 4.2 문자열"
      ]
    },
    {
      "cell_type": "markdown",
      "metadata": {
        "id": "pQiZ-U_0V-m5"
      },
      "source": [
        "### 문자열 만들기"
      ]
    },
    {
      "cell_type": "markdown",
      "metadata": {
        "id": "sxJnoKtHV-m5"
      },
      "source": [
        "**[4장: 45 ~ 46페이지]**"
      ]
    },
    {
      "cell_type": "code",
      "metadata": {
        "id": "MfHaXj6hV-m5",
        "outputId": "2d48e7a2-fdc3-49bb-ce5e-a4328272f11c"
      },
      "source": [
        ""
      ],
      "execution_count": null,
      "outputs": [
        {
          "output_type": "stream",
          "text": [
            "String Test\n"
          ],
          "name": "stdout"
        }
      ]
    },
    {
      "cell_type": "code",
      "metadata": {
        "id": "b3x0O6lOV-m6"
      },
      "source": [
        ""
      ],
      "execution_count": null,
      "outputs": []
    },
    {
      "cell_type": "markdown",
      "metadata": {
        "id": "w08QMqZpV-m7"
      },
      "source": [
        "**[4장: 46페이지]**"
      ]
    },
    {
      "cell_type": "code",
      "metadata": {
        "id": "8kLPF0x6V-m7"
      },
      "source": [
        ""
      ],
      "execution_count": null,
      "outputs": []
    },
    {
      "cell_type": "markdown",
      "metadata": {
        "id": "oF9rTWgsV-m7"
      },
      "source": [
        "**[4장: 46페이지]**"
      ]
    },
    {
      "cell_type": "code",
      "metadata": {
        "id": "wV7Gag2RV-m7"
      },
      "source": [
        ""
      ],
      "execution_count": null,
      "outputs": []
    },
    {
      "cell_type": "code",
      "metadata": {
        "id": "NMI--UpNV-m7"
      },
      "source": [
        ""
      ],
      "execution_count": null,
      "outputs": []
    },
    {
      "cell_type": "markdown",
      "metadata": {
        "id": "zohsSvrDV-m8"
      },
      "source": [
        "**[4장: 46페이지]**"
      ]
    },
    {
      "cell_type": "code",
      "metadata": {
        "id": "k1EuAYSJV-m8"
      },
      "source": [
        ""
      ],
      "execution_count": null,
      "outputs": []
    },
    {
      "cell_type": "markdown",
      "metadata": {
        "id": "cgE9XezIV-m8"
      },
      "source": [
        "**[4장: 47페이지]**"
      ]
    },
    {
      "cell_type": "code",
      "metadata": {
        "id": "ZxAvMMiOV-m8"
      },
      "source": [
        "long_string1 = '''[삼중 작은따옴표를 사용한 예]\n",
        "파이썬에는 삼중 따옴표로 여러 행의 문자열을 입력할 수 있습니다.\n",
        "큰따옴표(\")와 작은따옴표(')도 입력할 수 있습니다.''' \n",
        "\n",
        "long_string2 = \"\"\"[삼중 큰따옴표를 사용한 예]\n",
        "파이썬에는 삼중 따옴표로 여러 행의 문자열을 입력할 수 있습니다.\n",
        "큰따옴표(\")와 작은따옴표(')도 입력할 수 있습니다.\"\"\" \n",
        "\n",
        "print(long_string1)\n",
        "print(long_string2)"
      ],
      "execution_count": null,
      "outputs": []
    },
    {
      "cell_type": "markdown",
      "metadata": {
        "id": "6pwDiQqLV-m8"
      },
      "source": [
        "### 문자열 다루기"
      ]
    },
    {
      "cell_type": "markdown",
      "metadata": {
        "id": "nHiVMvsNV-m9"
      },
      "source": [
        "**[4장: 48페이지]**"
      ]
    },
    {
      "cell_type": "code",
      "metadata": {
        "id": "kiFE-D3gV-m9"
      },
      "source": [
        ""
      ],
      "execution_count": null,
      "outputs": []
    },
    {
      "cell_type": "code",
      "metadata": {
        "id": "1XEZmG7kV-m9"
      },
      "source": [
        ""
      ],
      "execution_count": null,
      "outputs": []
    },
    {
      "cell_type": "markdown",
      "metadata": {
        "id": "CRUYPhKiV-m9"
      },
      "source": [
        "## 4.3 리스트"
      ]
    },
    {
      "cell_type": "markdown",
      "metadata": {
        "id": "Zh05-fdsV-m9"
      },
      "source": [
        "### 리스트 만들기"
      ]
    },
    {
      "cell_type": "markdown",
      "metadata": {
        "id": "CzorRCAXV-m-"
      },
      "source": [
        "**[4장: 49페이지]**"
      ]
    },
    {
      "cell_type": "code",
      "metadata": {
        "id": "5Ny1l9iWV-m-"
      },
      "source": [
        "# 1번 학생의 국어, 영어, 수학, 과학 점수가 각각 90,95,85,80\n"
      ],
      "execution_count": null,
      "outputs": []
    },
    {
      "cell_type": "markdown",
      "metadata": {
        "id": "CexkrNmtV-m-"
      },
      "source": [
        "**[4장: 49페이지]**"
      ]
    },
    {
      "cell_type": "code",
      "metadata": {
        "id": "4nujtkcAV-m-"
      },
      "source": [
        ""
      ],
      "execution_count": null,
      "outputs": []
    },
    {
      "cell_type": "markdown",
      "metadata": {
        "id": "P48JQgRNV-m-"
      },
      "source": [
        "**[4장: 50페이지]**"
      ]
    },
    {
      "cell_type": "code",
      "metadata": {
        "id": "nD8Z7xukV-m_"
      },
      "source": [
        ""
      ],
      "execution_count": null,
      "outputs": []
    },
    {
      "cell_type": "code",
      "metadata": {
        "id": "wh3aEmVGV-m_"
      },
      "source": [
        ""
      ],
      "execution_count": null,
      "outputs": []
    },
    {
      "cell_type": "code",
      "metadata": {
        "id": "Rnm80qCDV-m_"
      },
      "source": [
        ""
      ],
      "execution_count": null,
      "outputs": []
    },
    {
      "cell_type": "markdown",
      "metadata": {
        "id": "CyQXhQT8V-m_"
      },
      "source": [
        "**[4장: 50페이지]**"
      ]
    },
    {
      "cell_type": "code",
      "metadata": {
        "id": "LyD9cVaRV-m_"
      },
      "source": [
        ""
      ],
      "execution_count": null,
      "outputs": []
    },
    {
      "cell_type": "markdown",
      "metadata": {
        "id": "hjvht64NV-m_"
      },
      "source": [
        "**[4장: 50페이지]**"
      ]
    },
    {
      "cell_type": "code",
      "metadata": {
        "id": "urUZlHGqV-nA"
      },
      "source": [
        ""
      ],
      "execution_count": null,
      "outputs": []
    },
    {
      "cell_type": "markdown",
      "metadata": {
        "id": "7OANeVsfV-nA"
      },
      "source": [
        "**[4장: 50 ~ 51페이지]**"
      ]
    },
    {
      "cell_type": "code",
      "metadata": {
        "id": "a6x7KHahV-nA"
      },
      "source": [
        ""
      ],
      "execution_count": null,
      "outputs": []
    },
    {
      "cell_type": "code",
      "metadata": {
        "id": "-N41bfKIV-nA"
      },
      "source": [
        ""
      ],
      "execution_count": null,
      "outputs": []
    },
    {
      "cell_type": "code",
      "metadata": {
        "id": "zfy0tPvzV-nA"
      },
      "source": [
        ""
      ],
      "execution_count": null,
      "outputs": []
    },
    {
      "cell_type": "markdown",
      "metadata": {
        "id": "uSYIveRiV-nA"
      },
      "source": [
        "**[4장: 51페이지]**"
      ]
    },
    {
      "cell_type": "code",
      "metadata": {
        "id": "rGrsWfo4V-nB"
      },
      "source": [
        ""
      ],
      "execution_count": null,
      "outputs": []
    },
    {
      "cell_type": "markdown",
      "metadata": {
        "id": "9hil-BejV-nB"
      },
      "source": [
        "### 리스트 다루기"
      ]
    },
    {
      "cell_type": "markdown",
      "metadata": {
        "id": "Fe3xKCe_V-nB"
      },
      "source": [
        "#### 리스트 더하기와 곱하기"
      ]
    },
    {
      "cell_type": "markdown",
      "metadata": {
        "id": "28Mw_kEBV-nB"
      },
      "source": [
        "**[4장: 51페이지]**"
      ]
    },
    {
      "cell_type": "code",
      "metadata": {
        "id": "O-X37vcGV-nB"
      },
      "source": [
        ""
      ],
      "execution_count": null,
      "outputs": []
    },
    {
      "cell_type": "markdown",
      "metadata": {
        "id": "XF53OtjZV-nB"
      },
      "source": [
        "**[4장: 51 ~ 52페이지]**"
      ]
    },
    {
      "cell_type": "code",
      "metadata": {
        "id": "f8jcjgPVV-nC"
      },
      "source": [
        ""
      ],
      "execution_count": null,
      "outputs": []
    },
    {
      "cell_type": "markdown",
      "metadata": {
        "id": "JlZzFKCCV-nC"
      },
      "source": [
        "#### 리스트 중 일부 항목 가져오기"
      ]
    },
    {
      "cell_type": "markdown",
      "metadata": {
        "id": "ina9tl2kV-nC"
      },
      "source": [
        "**[4장: 52페이지]**"
      ]
    },
    {
      "cell_type": "code",
      "metadata": {
        "id": "0ooM4C7vV-nC"
      },
      "source": [
        ""
      ],
      "execution_count": null,
      "outputs": []
    },
    {
      "cell_type": "markdown",
      "metadata": {
        "id": "AqtO83fuV-nC"
      },
      "source": [
        "####  리스트에서 항목 삭제하기"
      ]
    },
    {
      "cell_type": "markdown",
      "metadata": {
        "id": "cUXnqPFTV-nC"
      },
      "source": [
        "**[4장: 53페이지]**"
      ]
    },
    {
      "cell_type": "code",
      "metadata": {
        "id": "7ZHZsU0iV-nD"
      },
      "source": [
        ""
      ],
      "execution_count": null,
      "outputs": []
    },
    {
      "cell_type": "markdown",
      "metadata": {
        "id": "d3GYkOQdV-nD"
      },
      "source": [
        "#### 리스트에서 항목의 존재 여부 확인하기"
      ]
    },
    {
      "cell_type": "markdown",
      "metadata": {
        "id": "ohdfwcGiV-nD"
      },
      "source": [
        "**[4장: 53페이지]**"
      ]
    },
    {
      "cell_type": "code",
      "metadata": {
        "id": "6BSwQ-LCV-nD"
      },
      "source": [
        ""
      ],
      "execution_count": null,
      "outputs": []
    },
    {
      "cell_type": "markdown",
      "metadata": {
        "id": "GKwKHq-gV-nD"
      },
      "source": [
        "#### 리스트 메서드 활용하기"
      ]
    },
    {
      "cell_type": "markdown",
      "metadata": {
        "id": "l9t10Vy3V-nD"
      },
      "source": [
        "**[4장: 54페이지]**"
      ]
    },
    {
      "cell_type": "code",
      "metadata": {
        "id": "hDxx4oLKV-nE"
      },
      "source": [
        ""
      ],
      "execution_count": null,
      "outputs": []
    },
    {
      "cell_type": "markdown",
      "metadata": {
        "id": "juiXJNZ1V-nE"
      },
      "source": [
        "**[4장: 55페이지]**"
      ]
    },
    {
      "cell_type": "code",
      "metadata": {
        "id": "peE12vxdV-nE"
      },
      "source": [
        ""
      ],
      "execution_count": null,
      "outputs": []
    },
    {
      "cell_type": "markdown",
      "metadata": {
        "id": "eVnvPMY0V-nE"
      },
      "source": [
        "**[4장: 55페이지]**"
      ]
    },
    {
      "cell_type": "code",
      "metadata": {
        "id": "3NKZ38vGV-nE"
      },
      "source": [
        ""
      ],
      "execution_count": null,
      "outputs": []
    },
    {
      "cell_type": "markdown",
      "metadata": {
        "id": "52zu1kUTV-nF"
      },
      "source": [
        "## 4.4 튜플"
      ]
    },
    {
      "cell_type": "markdown",
      "metadata": {
        "id": "jCoDEeweV-nF"
      },
      "source": [
        "### 튜플 만들기"
      ]
    },
    {
      "cell_type": "markdown",
      "metadata": {
        "id": "c9wO6UnVV-nF"
      },
      "source": [
        "**[4장: 56페이지]**"
      ]
    },
    {
      "cell_type": "code",
      "metadata": {
        "id": "A1kShvv3V-nF"
      },
      "source": [
        ""
      ],
      "execution_count": null,
      "outputs": []
    },
    {
      "cell_type": "markdown",
      "metadata": {
        "id": "Z2ig7OgcV-nF"
      },
      "source": [
        "**[4장: 56페이지]**"
      ]
    },
    {
      "cell_type": "code",
      "metadata": {
        "id": "mr-rxY4zV-nF"
      },
      "source": [
        ""
      ],
      "execution_count": null,
      "outputs": []
    },
    {
      "cell_type": "markdown",
      "metadata": {
        "id": "gIsXs2k-V-nF"
      },
      "source": [
        "**[4장: 56페이지]**"
      ]
    },
    {
      "cell_type": "code",
      "metadata": {
        "id": "dz6MQ984V-nG"
      },
      "source": [
        ""
      ],
      "execution_count": null,
      "outputs": []
    },
    {
      "cell_type": "markdown",
      "metadata": {
        "id": "nKllgzTqV-nG"
      },
      "source": [
        "**[4장: 56 ~ 57페이지]**"
      ]
    },
    {
      "cell_type": "code",
      "metadata": {
        "id": "ITCvPObDV-nG"
      },
      "source": [
        ""
      ],
      "execution_count": null,
      "outputs": []
    },
    {
      "cell_type": "code",
      "metadata": {
        "id": "xutav89XV-nG"
      },
      "source": [
        ""
      ],
      "execution_count": null,
      "outputs": []
    },
    {
      "cell_type": "markdown",
      "metadata": {
        "id": "AmB-XTLCV-nG"
      },
      "source": [
        "**[4장: 57페이지]**"
      ]
    },
    {
      "cell_type": "code",
      "metadata": {
        "id": "18r-SGyVV-nG"
      },
      "source": [
        ""
      ],
      "execution_count": null,
      "outputs": []
    },
    {
      "cell_type": "markdown",
      "metadata": {
        "id": "kWllRVWpV-nG"
      },
      "source": [
        "### 튜플 다루기"
      ]
    },
    {
      "cell_type": "markdown",
      "metadata": {
        "id": "79Xm1ATjV-nH"
      },
      "source": [
        "**[4장: 57페이지]**"
      ]
    },
    {
      "cell_type": "code",
      "metadata": {
        "id": "ZT-L1F7gV-nH"
      },
      "source": [
        ""
      ],
      "execution_count": null,
      "outputs": []
    },
    {
      "cell_type": "code",
      "metadata": {
        "id": "HXUgm3uOV-nH"
      },
      "source": [
        ""
      ],
      "execution_count": null,
      "outputs": []
    },
    {
      "cell_type": "markdown",
      "metadata": {
        "id": "utaOcXPYV-nH"
      },
      "source": [
        "**[4장: 58페이지]**"
      ]
    },
    {
      "cell_type": "code",
      "metadata": {
        "id": "s-gpQ_bRV-nH"
      },
      "source": [
        ""
      ],
      "execution_count": null,
      "outputs": []
    },
    {
      "cell_type": "markdown",
      "metadata": {
        "id": "4Zl7R14VV-nH"
      },
      "source": [
        "**[4장: 58페이지]**"
      ]
    },
    {
      "cell_type": "code",
      "metadata": {
        "id": "Y4SZJodBV-nI"
      },
      "source": [
        ""
      ],
      "execution_count": null,
      "outputs": []
    },
    {
      "cell_type": "markdown",
      "metadata": {
        "id": "M1Lco82FV-nI"
      },
      "source": [
        "## 4.5 세트"
      ]
    },
    {
      "cell_type": "markdown",
      "metadata": {
        "id": "KkN7ArtNV-nI"
      },
      "source": [
        "### 세트 만들기"
      ]
    },
    {
      "cell_type": "markdown",
      "metadata": {
        "id": "IVhkjINlV-nI"
      },
      "source": [
        "**[4장: 59페이지]**"
      ]
    },
    {
      "cell_type": "code",
      "metadata": {
        "id": "fNhbl5GXV-nI"
      },
      "source": [
        ""
      ],
      "execution_count": null,
      "outputs": []
    },
    {
      "cell_type": "markdown",
      "metadata": {
        "id": "B6QlbXTsV-nI"
      },
      "source": [
        "**[4장: 59페이지]**"
      ]
    },
    {
      "cell_type": "code",
      "metadata": {
        "id": "Nugk8PeTV-nJ"
      },
      "source": [
        ""
      ],
      "execution_count": null,
      "outputs": []
    },
    {
      "cell_type": "markdown",
      "metadata": {
        "id": "PSAGdXjoV-nJ"
      },
      "source": [
        "### 세트의 교집합, 합집합, 차집합 구하기"
      ]
    },
    {
      "cell_type": "markdown",
      "metadata": {
        "id": "_xflW2swV-nJ"
      },
      "source": [
        "**[4장: 60페이지]**"
      ]
    },
    {
      "cell_type": "code",
      "metadata": {
        "id": "ih8Wn7PDV-nJ"
      },
      "source": [
        ""
      ],
      "execution_count": null,
      "outputs": []
    },
    {
      "cell_type": "code",
      "metadata": {
        "id": "-SdF1_l9V-nJ"
      },
      "source": [
        ""
      ],
      "execution_count": null,
      "outputs": []
    },
    {
      "cell_type": "code",
      "metadata": {
        "id": "_7hfuxDpV-nJ"
      },
      "source": [
        ""
      ],
      "execution_count": null,
      "outputs": []
    },
    {
      "cell_type": "markdown",
      "metadata": {
        "id": "5LrYd47OV-nK"
      },
      "source": [
        "**[4장: 60 ~ 61페이지]**"
      ]
    },
    {
      "cell_type": "code",
      "metadata": {
        "scrolled": true,
        "id": "kq1sithNV-nK"
      },
      "source": [
        ""
      ],
      "execution_count": null,
      "outputs": []
    },
    {
      "cell_type": "code",
      "metadata": {
        "id": "fzxdNcLlV-nK"
      },
      "source": [
        ""
      ],
      "execution_count": null,
      "outputs": []
    },
    {
      "cell_type": "code",
      "metadata": {
        "id": "tfSnhuaaV-nK"
      },
      "source": [
        ""
      ],
      "execution_count": null,
      "outputs": []
    },
    {
      "cell_type": "markdown",
      "metadata": {
        "id": "GT04OQuNV-nL"
      },
      "source": [
        "### 리스트, 튜플, 세트 간 타입 변환"
      ]
    },
    {
      "cell_type": "markdown",
      "metadata": {
        "id": "xy3ZkANiV-nL"
      },
      "source": [
        "**[4장: 61페이지]**"
      ]
    },
    {
      "cell_type": "code",
      "metadata": {
        "id": "dnA6fP-bV-nL"
      },
      "source": [
        ""
      ],
      "execution_count": null,
      "outputs": []
    },
    {
      "cell_type": "code",
      "metadata": {
        "id": "hV_CHgUsV-nL"
      },
      "source": [
        ""
      ],
      "execution_count": null,
      "outputs": []
    },
    {
      "cell_type": "markdown",
      "metadata": {
        "id": "YsnB2FExV-nL"
      },
      "source": [
        "**[4장: 61페이지]**"
      ]
    },
    {
      "cell_type": "code",
      "metadata": {
        "id": "9paR9eXLV-nL"
      },
      "source": [
        ""
      ],
      "execution_count": null,
      "outputs": []
    },
    {
      "cell_type": "code",
      "metadata": {
        "id": "Cwd0oeAaV-nM"
      },
      "source": [
        ""
      ],
      "execution_count": null,
      "outputs": []
    },
    {
      "cell_type": "markdown",
      "metadata": {
        "id": "awXaRbf5V-nM"
      },
      "source": [
        "**[4장: 61페이지]**"
      ]
    },
    {
      "cell_type": "code",
      "metadata": {
        "id": "-B6K9wPMV-nM"
      },
      "source": [
        ""
      ],
      "execution_count": null,
      "outputs": []
    },
    {
      "cell_type": "code",
      "metadata": {
        "id": "uKeHTnxtV-nM"
      },
      "source": [
        ""
      ],
      "execution_count": null,
      "outputs": []
    },
    {
      "cell_type": "markdown",
      "metadata": {
        "id": "7ccO0_HgV-nM"
      },
      "source": [
        "**[4장: 62페이지]**"
      ]
    },
    {
      "cell_type": "code",
      "metadata": {
        "id": "emONp3BCV-nM"
      },
      "source": [
        ""
      ],
      "execution_count": null,
      "outputs": []
    },
    {
      "cell_type": "code",
      "metadata": {
        "id": "_R4vrK2pV-nN"
      },
      "source": [
        ""
      ],
      "execution_count": null,
      "outputs": []
    },
    {
      "cell_type": "markdown",
      "metadata": {
        "id": "KYdIIdJWV-nN"
      },
      "source": [
        "## 4.6 딕셔너리"
      ]
    },
    {
      "cell_type": "markdown",
      "metadata": {
        "collapsed": true,
        "id": "jkpsyRo4V-nN"
      },
      "source": [
        "### 딕셔너리 만들기"
      ]
    },
    {
      "cell_type": "markdown",
      "metadata": {
        "id": "hxO2ufaiV-nN"
      },
      "source": [
        "**[4장: 63페이지]**"
      ]
    },
    {
      "cell_type": "code",
      "metadata": {
        "id": "tCzfmSeSV-nN"
      },
      "source": [
        ""
      ],
      "execution_count": null,
      "outputs": []
    },
    {
      "cell_type": "markdown",
      "metadata": {
        "id": "X_hkMw6fV-nN"
      },
      "source": [
        "**[4장: 63페이지]**"
      ]
    },
    {
      "cell_type": "code",
      "metadata": {
        "id": "pUJuGBE-V-nO"
      },
      "source": [
        ""
      ],
      "execution_count": null,
      "outputs": []
    },
    {
      "cell_type": "markdown",
      "metadata": {
        "id": "Dt-pn-J4V-nO"
      },
      "source": [
        "**[4장: 63페이지]**"
      ]
    },
    {
      "cell_type": "code",
      "metadata": {
        "id": "GV1xlKZEV-nO"
      },
      "source": [
        ""
      ],
      "execution_count": null,
      "outputs": []
    },
    {
      "cell_type": "markdown",
      "metadata": {
        "id": "_G7frtPJV-nO"
      },
      "source": [
        "**[4장: 64페이지]**"
      ]
    },
    {
      "cell_type": "code",
      "metadata": {
        "id": "e6rVmpMqV-nO"
      },
      "source": [
        ""
      ],
      "execution_count": null,
      "outputs": []
    },
    {
      "cell_type": "markdown",
      "metadata": {
        "id": "toCMwGeIV-nO"
      },
      "source": [
        "**[4장: 64페이지]**"
      ]
    },
    {
      "cell_type": "code",
      "metadata": {
        "id": "_cDDf8wVV-nP"
      },
      "source": [
        ""
      ],
      "execution_count": null,
      "outputs": []
    },
    {
      "cell_type": "markdown",
      "metadata": {
        "id": "CR8eJf_BV-nP"
      },
      "source": [
        "**[4장: 64페이지]**"
      ]
    },
    {
      "cell_type": "code",
      "metadata": {
        "id": "gVT7dp3qV-nP"
      },
      "source": [
        ""
      ],
      "execution_count": null,
      "outputs": []
    },
    {
      "cell_type": "markdown",
      "metadata": {
        "id": "pnN7JVheV-nQ"
      },
      "source": [
        "**[4장: 64페이지]**"
      ]
    },
    {
      "cell_type": "code",
      "metadata": {
        "id": "rBuAQTyfV-nQ"
      },
      "source": [
        ""
      ],
      "execution_count": null,
      "outputs": []
    },
    {
      "cell_type": "markdown",
      "metadata": {
        "id": "u9r-xgmIV-nQ"
      },
      "source": [
        "**[4장: 64페이지]**"
      ]
    },
    {
      "cell_type": "code",
      "metadata": {
        "id": "fX4iaH3RV-nR"
      },
      "source": [
        ""
      ],
      "execution_count": null,
      "outputs": []
    },
    {
      "cell_type": "markdown",
      "metadata": {
        "id": "-eCHUmPFV-nR"
      },
      "source": [
        "### 딕셔너리 다루기"
      ]
    },
    {
      "cell_type": "markdown",
      "metadata": {
        "id": "ZWtZ5F0dV-nR"
      },
      "source": [
        "#### 딕셔너리에 데이터 추가하고 변경하기"
      ]
    },
    {
      "cell_type": "markdown",
      "metadata": {
        "id": "bs04ForrV-nR"
      },
      "source": [
        "**[4장: 65페이지]**"
      ]
    },
    {
      "cell_type": "code",
      "metadata": {
        "id": "6g57yoJTV-nS"
      },
      "source": [
        ""
      ],
      "execution_count": null,
      "outputs": []
    },
    {
      "cell_type": "markdown",
      "metadata": {
        "id": "Fa2wKLfdV-nS"
      },
      "source": [
        "**[4장: 65페이지]**"
      ]
    },
    {
      "cell_type": "code",
      "metadata": {
        "id": "6VPH1DQUV-nS"
      },
      "source": [
        ""
      ],
      "execution_count": null,
      "outputs": []
    },
    {
      "cell_type": "markdown",
      "metadata": {
        "id": "zgKO33ilV-nS"
      },
      "source": [
        "#### 딕셔너리에서 데이터 삭제하기"
      ]
    },
    {
      "cell_type": "markdown",
      "metadata": {
        "id": "eAzM41JBV-nT"
      },
      "source": [
        "**[4장: 66페이지]**"
      ]
    },
    {
      "cell_type": "code",
      "metadata": {
        "id": "JhZZOfEaV-nT"
      },
      "source": [
        ""
      ],
      "execution_count": null,
      "outputs": []
    },
    {
      "cell_type": "markdown",
      "metadata": {
        "id": "yPnxRq8TV-nT"
      },
      "source": [
        "#### 딕셔너리 메서드 활용하기"
      ]
    },
    {
      "cell_type": "markdown",
      "metadata": {
        "id": "kDtu84QQV-nT"
      },
      "source": [
        "**[4장: 66페이지]**"
      ]
    },
    {
      "cell_type": "code",
      "metadata": {
        "id": "8PejlNABV-nU"
      },
      "source": [
        ""
      ],
      "execution_count": null,
      "outputs": []
    },
    {
      "cell_type": "markdown",
      "metadata": {
        "id": "zeBjkDqBV-nU"
      },
      "source": [
        "**[4장: 66페이지]**"
      ]
    },
    {
      "cell_type": "code",
      "metadata": {
        "scrolled": true,
        "id": "CKq-yw91V-nU"
      },
      "source": [
        ""
      ],
      "execution_count": null,
      "outputs": []
    },
    {
      "cell_type": "markdown",
      "metadata": {
        "id": "K718ZN_UV-nU"
      },
      "source": [
        "**[4장: 66페이지]**"
      ]
    },
    {
      "cell_type": "code",
      "metadata": {
        "id": "CeaBq7MPV-nV"
      },
      "source": [
        ""
      ],
      "execution_count": null,
      "outputs": []
    },
    {
      "cell_type": "markdown",
      "metadata": {
        "id": "KNbkzmCuV-nV"
      },
      "source": [
        "**[4장: 67페이지]**"
      ]
    },
    {
      "cell_type": "code",
      "metadata": {
        "id": "we-9c2vUV-nV"
      },
      "source": [
        ""
      ],
      "execution_count": null,
      "outputs": []
    },
    {
      "cell_type": "markdown",
      "metadata": {
        "id": "c3wm5f1jV-nV"
      },
      "source": [
        "**[4장: 67페이지]**"
      ]
    },
    {
      "cell_type": "code",
      "metadata": {
        "id": "cxeaEUDrV-nW"
      },
      "source": [
        ""
      ],
      "execution_count": null,
      "outputs": []
    },
    {
      "cell_type": "code",
      "metadata": {
        "id": "Stb-LmigV-nW"
      },
      "source": [
        ""
      ],
      "execution_count": null,
      "outputs": []
    },
    {
      "cell_type": "code",
      "metadata": {
        "id": "oJvybgK8V-nW"
      },
      "source": [
        ""
      ],
      "execution_count": null,
      "outputs": []
    },
    {
      "cell_type": "markdown",
      "metadata": {
        "id": "LxOUROv2V-nW"
      },
      "source": [
        "**[4장: 67페이지]**"
      ]
    },
    {
      "cell_type": "code",
      "metadata": {
        "id": "V7NeSO9IV-nW"
      },
      "source": [
        ""
      ],
      "execution_count": null,
      "outputs": []
    },
    {
      "cell_type": "markdown",
      "metadata": {
        "id": "kYUCrpynV-nW"
      },
      "source": [
        "**[4장: 67페이지]**"
      ]
    },
    {
      "cell_type": "code",
      "metadata": {
        "id": "Fr-Az3KxV-nX"
      },
      "source": [
        ""
      ],
      "execution_count": null,
      "outputs": []
    },
    {
      "cell_type": "markdown",
      "metadata": {
        "id": "vL-qDY6lV-nX"
      },
      "source": [
        "**[4장: 68페이지]**"
      ]
    },
    {
      "cell_type": "code",
      "metadata": {
        "id": "SLlJXiIeV-nX"
      },
      "source": [
        ""
      ],
      "execution_count": null,
      "outputs": []
    },
    {
      "cell_type": "markdown",
      "metadata": {
        "id": "4f56VSLxV-nX"
      },
      "source": [
        "# 4.7 정리"
      ]
    }
  ]
}